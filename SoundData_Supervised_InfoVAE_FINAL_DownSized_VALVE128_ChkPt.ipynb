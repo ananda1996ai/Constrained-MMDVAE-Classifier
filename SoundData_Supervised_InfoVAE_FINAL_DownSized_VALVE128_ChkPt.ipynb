{
  "nbformat": 4,
  "nbformat_minor": 0,
  "metadata": {
    "kernelspec": {
      "display_name": "Python [default]",
      "language": "python",
      "name": "python3"
    },
    "language_info": {
      "codemirror_mode": {
        "name": "ipython",
        "version": 3
      },
      "file_extension": ".py",
      "mimetype": "text/x-python",
      "name": "python",
      "nbconvert_exporter": "python",
      "pygments_lexer": "ipython3",
      "version": "3.5.4"
    },
    "toc": {
      "nav_menu": {},
      "number_sections": true,
      "sideBar": true,
      "skip_h1_title": false,
      "toc_cell": false,
      "toc_position": {},
      "toc_section_display": "block",
      "toc_window_display": false
    },
    "colab": {
      "name": "SoundData_Supervised_InfoVAE_FINAL_DownSized_VALVE128_ChkPt.ipynb",
      "provenance": [],
      "collapsed_sections": []
    },
    "accelerator": "GPU"
  },
  "cells": [
    {
      "cell_type": "markdown",
      "metadata": {
        "id": "KZAYBwhk6VYv"
      },
      "source": [
        "# Pre-Requisites"
      ]
    },
    {
      "cell_type": "code",
      "metadata": {
        "colab": {
          "base_uri": "https://localhost:8080/"
        },
        "id": "9eKB8J-V8mLw",
        "outputId": "0cbf5880-1711-4c17-a0d8-cd3747efc23b"
      },
      "source": [
        "from google.colab import drive\n",
        "drive.mount('/content/drive', force_remount=True)"
      ],
      "execution_count": null,
      "outputs": [
        {
          "output_type": "stream",
          "name": "stdout",
          "text": [
            "Mounted at /content/drive\n"
          ]
        }
      ]
    },
    {
      "cell_type": "code",
      "metadata": {
        "colab": {
          "base_uri": "https://localhost:8080/"
        },
        "id": "dVvKUALG-X5Z",
        "outputId": "6e4ddc04-daec-453f-f3a2-b8548702068d"
      },
      "source": [
        "!pip install torch>=1.2.0\n",
        "!pip install torchaudio"
      ],
      "execution_count": null,
      "outputs": [
        {
          "output_type": "stream",
          "name": "stdout",
          "text": [
            "Collecting torchaudio\n",
            "  Downloading torchaudio-0.9.0-cp37-cp37m-manylinux1_x86_64.whl (1.9 MB)\n",
            "\u001b[K     |████████████████████████████████| 1.9 MB 5.2 MB/s \n",
            "\u001b[?25hRequirement already satisfied: torch==1.9.0 in /usr/local/lib/python3.7/dist-packages (from torchaudio) (1.9.0+cu102)\n",
            "Requirement already satisfied: typing-extensions in /usr/local/lib/python3.7/dist-packages (from torch==1.9.0->torchaudio) (3.7.4.3)\n",
            "Installing collected packages: torchaudio\n",
            "Successfully installed torchaudio-0.9.0\n"
          ]
        }
      ]
    },
    {
      "cell_type": "markdown",
      "metadata": {
        "id": "flKUBEaf6hy8"
      },
      "source": [
        "### Libraries"
      ]
    },
    {
      "cell_type": "code",
      "metadata": {
        "id": "eVexaaq1ILG9"
      },
      "source": [
        "import torch\n",
        "from torch.autograd import Variable\n",
        "from torch.distributions import MultivariateNormal\n",
        "from torch.nn import BCELoss, MSELoss\n",
        "\n",
        "from torch.utils.data import Dataset\n",
        "import pandas as pd\n",
        "import torchaudio\n",
        "import matplotlib.pyplot as plt\n",
        "import random\n",
        "from torchvision import transforms\n",
        "\n",
        "import numpy as np\n",
        "import plotly.express as px\n",
        "import math, os\n",
        "import copy\n",
        "from tqdm import tqdm"
      ],
      "execution_count": null,
      "outputs": []
    },
    {
      "cell_type": "markdown",
      "metadata": {
        "id": "SCtme6n6MSe_"
      },
      "source": [
        "# The Model"
      ]
    },
    {
      "cell_type": "markdown",
      "metadata": {
        "id": "NfQ7ZfS5LmZU"
      },
      "source": [
        "## Build InfoVAE model"
      ]
    },
    {
      "cell_type": "markdown",
      "metadata": {
        "id": "gPhRd7zB6l5I"
      },
      "source": [
        "### Custom Layers"
      ]
    },
    {
      "cell_type": "code",
      "metadata": {
        "id": "tJCEtBoTILHA"
      },
      "source": [
        "class Flatten(torch.nn.Module):\n",
        "    def forward(self, x):\n",
        "        return x.view(x.size(0), -1)\n",
        "    \n",
        "class Reshape(torch.nn.Module):\n",
        "    def __init__(self, outer_shape):\n",
        "        super(Reshape, self).__init__()\n",
        "        self.outer_shape = outer_shape\n",
        "    def forward(self, x):\n",
        "        return x.view(x.size(0), *self.outer_shape)"
      ],
      "execution_count": null,
      "outputs": []
    },
    {
      "cell_type": "markdown",
      "metadata": {
        "id": "v109Umb06r_k"
      },
      "source": [
        "### Testing Functions (Not Required)"
      ]
    },
    {
      "cell_type": "code",
      "metadata": {
        "colab": {
          "base_uri": "https://localhost:8080/"
        },
        "id": "BeEFRXj_ILHB",
        "outputId": "d17eb568-17e2-4b09-aa6a-8d8f30ce57f7"
      },
      "source": [
        "def get_flatten_output():\n",
        "    model = torch.nn.Sequential(\n",
        "        torch.nn.Conv2d(1, 64, 4, 2),\n",
        "        torch.nn.LeakyReLU(),\n",
        "        torch.nn.Conv2d(64, 128, 4, 2),\n",
        "        torch.nn.LeakyReLU(),\n",
        "        Flatten(),\n",
        "    )\n",
        "    return model(Variable(torch.rand(2,1,28,28))).size()\n",
        "get_flatten_output()"
      ],
      "execution_count": null,
      "outputs": [
        {
          "output_type": "execute_result",
          "data": {
            "text/plain": [
              "torch.Size([2, 3200])"
            ]
          },
          "metadata": {},
          "execution_count": 5
        }
      ]
    },
    {
      "cell_type": "code",
      "metadata": {
        "colab": {
          "base_uri": "https://localhost:8080/"
        },
        "id": "154uLTBUILHC",
        "outputId": "0905a10d-7714-4611-dea6-dfd61f5f8740"
      },
      "source": [
        "def get_reshape_output():\n",
        "    model = torch.nn.Sequential(\n",
        "        torch.nn.Linear(2, 1024),\n",
        "        torch.nn.ReLU(),\n",
        "        torch.nn.Linear(1024, 7*7*128),\n",
        "        torch.nn.ReLU(),\n",
        "        Reshape((128,7,7,)),\n",
        "        torch.nn.ConvTranspose2d(128, 64, 4, 2),\n",
        "        torch.nn.ReLU(),\n",
        "        torch.nn.ConvTranspose2d(64, 1, 4, 2, padding=3),\n",
        "        torch.nn.Sigmoid()\n",
        "    )\n",
        "    return model(Variable(torch.rand(2,2))).size()\n",
        "get_reshape_output()"
      ],
      "execution_count": null,
      "outputs": [
        {
          "output_type": "execute_result",
          "data": {
            "text/plain": [
              "torch.Size([2, 1, 28, 28])"
            ]
          },
          "metadata": {},
          "execution_count": 6
        }
      ]
    },
    {
      "cell_type": "markdown",
      "metadata": {
        "id": "6ut_6lH36vbY"
      },
      "source": [
        "### Define Models (Encoder & Decoder)"
      ]
    },
    {
      "cell_type": "code",
      "metadata": {
        "collapsed": true,
        "id": "Zem0sMrNILHD"
      },
      "source": [
        "# Encoder and decoder use the DC-GAN architecture\n",
        "class Encoder(torch.nn.Module):\n",
        "    def __init__(self, z_dim):\n",
        "        super(Encoder, self).__init__()\n",
        "        self.model = torch.nn.ModuleList([\n",
        "            torch.nn.Conv2d(in_channels=8, out_channels=16, kernel_size=4, stride=2, padding=1),              # Input Shape: 128x1284x8     Output Shape: 64x64x16\n",
        "            torch.nn.LeakyReLU(),\n",
        "            torch.nn.Conv2d(in_channels=16, out_channels=16, kernel_size=4, stride=2, padding=1),              # Input Shape: 64x64x16       Output Shape: 32x32x16\n",
        "            torch.nn.LeakyReLU(),\n",
        "            torch.nn.Conv2d(16, 32, 4, 2, padding=1),                                                         # Input Shape: 32x32x16       Output Shape: 16x16x32\n",
        "            torch.nn.LeakyReLU(),\n",
        "            torch.nn.Conv2d(32, 16, 4, 2, padding=1),                                                         # Input Shape: 16x16x32       Output Shape: 8x8x16\n",
        "            torch.nn.LeakyReLU(),\n",
        "            Flatten(),                                                                                        # Input Shape: 8x8x16         Output Shape: 1024 (1-dim)\n",
        "            torch.nn.Linear(in_features=1024, out_features=512),\n",
        "            torch.nn.LeakyReLU(),\n",
        "            torch.nn.Linear(512, z_dim)\n",
        "        ])\n",
        "        \n",
        "    def forward(self, x):\n",
        "        #print(\"Encoder\")\n",
        "        #print(x.size())\n",
        "        for layer in self.model:\n",
        "            x = layer(x)\n",
        "            #print(x.size())\n",
        "        return x\n",
        "    \n",
        "    \n",
        "class Decoder(torch.nn.Module):\n",
        "    def __init__(self, z_dim):\n",
        "        super(Decoder, self).__init__()\n",
        "        self.model = torch.nn.ModuleList([\n",
        "            torch.nn.Linear(z_dim, 512),\n",
        "            torch.nn.ReLU(),\n",
        "            torch.nn.Linear(512, 1024),\n",
        "            torch.nn.ReLU(),\n",
        "            Reshape((16,8,8,)),                                                                                         # Output Shape: 8x8x16\n",
        "            torch.nn.ConvTranspose2d(in_channels=16, out_channels=32, kernel_size=4, stride=2, padding=1),              # Input Shape: 8x8x4        Output Shape: 16x16x8\n",
        "            torch.nn.ReLU(),\n",
        "            torch.nn.ConvTranspose2d(32, 16, 4, 2, padding=1),                                                          # Input Shape: 16x16x8      Output Shape: 32x32x16\n",
        "            torch.nn.ReLU(),\n",
        "            torch.nn.ConvTranspose2d(16, 16, 4, 2, padding=1),                                                          # Input Shape: 32x32x16     Output Shape: 64x64x16\n",
        "            torch.nn.ReLU(),\n",
        "            torch.nn.ConvTranspose2d(16, 8, 4, 2, padding=1),                                                           # Input Shape: 64x64x16     Output Shape: 128x128x8\n",
        "            torch.nn.Sigmoid()\n",
        "        ])\n",
        "        \n",
        "    def forward(self, x):\n",
        "        #print(\"Decoder\")\n",
        "        #print(x.size())\n",
        "        for layer in self.model:\n",
        "            x = layer(x)\n",
        "            #print(x.size())\n",
        "        return x\n",
        "    "
      ],
      "execution_count": null,
      "outputs": []
    },
    {
      "cell_type": "markdown",
      "metadata": {
        "id": "rxfbuvv57ejK"
      },
      "source": [
        "### Define MMD Loss Functions"
      ]
    },
    {
      "cell_type": "code",
      "metadata": {
        "collapsed": true,
        "id": "fxrQyBiIILHE"
      },
      "source": [
        "# Based on https://github.com/ShengjiaZhao/MMD-Variational-Autoencoder/blob/master/mmd_vae.ipynb\n",
        "\n",
        "def compute_kernel(x, y):\n",
        "    x_size = x.size(0)\n",
        "    y_size = y.size(0)\n",
        "    dim = x.size(1)\n",
        "    x = x.unsqueeze(1) # (x_size, 1, dim)\n",
        "    y = y.unsqueeze(0) # (1, y_size, dim)\n",
        "    tiled_x = x.expand(x_size, y_size, dim)\n",
        "    tiled_y = y.expand(x_size, y_size, dim)\n",
        "    kernel_input = (tiled_x - tiled_y).pow(2).mean(2)/float(dim)\n",
        "    return torch.exp(-kernel_input) # (x_size, y_size)\n",
        "\n",
        "def compute_mmd(x, y):\n",
        "    x_kernel = compute_kernel(x, x)\n",
        "    y_kernel = compute_kernel(y, y)\n",
        "    xy_kernel = compute_kernel(x, y)\n",
        "    mmd = x_kernel.mean() + y_kernel.mean() - 2*xy_kernel.mean()\n",
        "    return mmd"
      ],
      "execution_count": null,
      "outputs": []
    },
    {
      "cell_type": "markdown",
      "metadata": {
        "id": "M1mvnn4EL6oE"
      },
      "source": [
        "### Define Model Class"
      ]
    },
    {
      "cell_type": "code",
      "metadata": {
        "collapsed": true,
        "id": "4Rtyhd8kILHH"
      },
      "source": [
        "class Model(torch.nn.Module):\n",
        "    def __init__(self, z_dim):\n",
        "        super(Model, self).__init__()\n",
        "        self.latent_dim = z_dim\n",
        "        self.encoder = Encoder(z_dim)\n",
        "        self.decoder = Decoder(z_dim)\n",
        "        self.centre_0 = -1.0\n",
        "        self.centre_1 = 1.0\n",
        "        \n",
        "    def forward(self, x):\n",
        "        z = self.encoder(x)\n",
        "        x_reconstructed = self.decoder(z)\n",
        "        return z, x_reconstructed\n",
        "\n",
        "    def predict(self, x):\n",
        "        pdist = torch.nn.PairwiseDistance(p=2)\n",
        "        z = self.encoder(x).cpu()\n",
        "        pred = torch.argmin(torch.hstack([pdist(z, torch.zeros(self.latent_dim).fill_(self.centre_0)).unsqueeze(1), \n",
        "                                          pdist(z, torch.zeros(self.latent_dim).fill_(self.centre_1)).unsqueeze(1)]),\n",
        "                            dim=1)\n",
        "        return pred"
      ],
      "execution_count": null,
      "outputs": []
    },
    {
      "cell_type": "code",
      "metadata": {
        "collapsed": true,
        "id": "m3_d3nrwILHJ"
      },
      "source": [
        "# Testing function (passing z_dim)4/1AX4XfWgGDO3v5tn4Wt2IVfTAV_p1ISw4YUwRJ2ns_030a3ZLUoZ9joTZ7Eo\n",
        "model_test = Model(2)\n",
        "model_test.centre_0 = -1.0\n",
        "model_test.centre_1 = 1.0"
      ],
      "execution_count": null,
      "outputs": []
    },
    {
      "cell_type": "code",
      "metadata": {
        "colab": {
          "base_uri": "https://localhost:8080/"
        },
        "id": "KJuWp7HjdU84",
        "outputId": "4bade40d-629d-4f72-c3ea-0a30cb0f55d5"
      },
      "source": [
        "def count_parameters(model):\n",
        "  return sum(p.numel() for p in model.parameters() if p.requires_grad)\n",
        "\n",
        "print(\"Trainable parameters: \", count_parameters(model_test))"
      ],
      "execution_count": null,
      "outputs": [
        {
          "output_type": "stream",
          "name": "stdout",
          "text": [
            "Trainable parameters:  1097882\n"
          ]
        }
      ]
    },
    {
      "cell_type": "code",
      "metadata": {
        "scrolled": false,
        "colab": {
          "base_uri": "https://localhost:8080/"
        },
        "id": "gJvYVEo9ILHK",
        "outputId": "19425b9e-2347-4466-f6d6-b9a72b62c6e2"
      },
      "source": [
        "# Testing functions\n",
        "z, x_reconstructed = model_test(Variable(torch.rand(1,8,128,128)))\n",
        "z.size(), x_reconstructed.size()"
      ],
      "execution_count": null,
      "outputs": [
        {
          "output_type": "execute_result",
          "data": {
            "text/plain": [
              "(torch.Size([1, 2]), torch.Size([1, 8, 128, 128]))"
            ]
          },
          "metadata": {},
          "execution_count": 12
        }
      ]
    },
    {
      "cell_type": "code",
      "metadata": {
        "colab": {
          "base_uri": "https://localhost:8080/"
        },
        "id": "AXR8xAEgZVfd",
        "outputId": "72769ae2-4ccc-42e6-8657-b18819015dda"
      },
      "source": [
        "#Testing functions\n",
        "pred = model_test.predict(Variable(torch.rand(200,8,128,128)))\n",
        "pred.size()"
      ],
      "execution_count": null,
      "outputs": [
        {
          "output_type": "execute_result",
          "data": {
            "text/plain": [
              "torch.Size([200])"
            ]
          },
          "metadata": {},
          "execution_count": 13
        }
      ]
    },
    {
      "cell_type": "code",
      "metadata": {
        "id": "u69uP6cWVsDl"
      },
      "source": [
        "del(model_test)"
      ],
      "execution_count": null,
      "outputs": []
    },
    {
      "cell_type": "code",
      "metadata": {
        "id": "gKzjF9lf3Wh5"
      },
      "source": [
        "def model_saver(model_state, optimizer_state, path):\n",
        "  torch.save({'model_state_dict': model_state,\n",
        "              'optimizer_state_dict': optimizer_state,\n",
        "              }, path)"
      ],
      "execution_count": null,
      "outputs": []
    },
    {
      "cell_type": "markdown",
      "metadata": {
        "id": "fKc9o3eEMCb1"
      },
      "source": [
        "## Build Supervised_VAE Trainer"
      ]
    },
    {
      "cell_type": "markdown",
      "metadata": {
        "id": "-2NvuIb9qsJ4"
      },
      "source": [
        "#### Trainer"
      ]
    },
    {
      "cell_type": "code",
      "metadata": {
        "id": "H4NfW8L7W5_s"
      },
      "source": [
        "reconstruction_loss = MSELoss(reduction='mean')\n",
        "#reconstruction_loss = BCELoss(reduction='mean')"
      ],
      "execution_count": null,
      "outputs": []
    },
    {
      "cell_type": "code",
      "metadata": {
        "id": "6U_UGv1XoElu"
      },
      "source": [
        "def get_losses(model, images, labels, alpha, beta, m_0, m_1, use_cuda=True, eval_mode=False):\n",
        "  x = Variable(images, requires_grad=False)\n",
        "  if use_cuda:\n",
        "    x = x.cuda()\n",
        "\n",
        "  z, x_reconstructed = model(x)\n",
        "\n",
        "  one_labels = torch.nonzero(labels).squeeze()\n",
        "  zero_labels = torch.nonzero(1-labels).squeeze()\n",
        "  z_one = z[one_labels]\n",
        "  z_zero = z[zero_labels]\n",
        "\n",
        "  mmd_mod = []\n",
        "  if z_zero.size()[0]>0:\n",
        "    if len(list(z_zero.size()))<2:\n",
        "      z_zero =z_zero.unsqueeze(0)\n",
        "    true_samples_zero = Variable(torch.stack([m_0.sample() for _ in range(z_zero.size()[0])]), requires_grad=False)\n",
        "    if use_cuda:\n",
        "      true_samples_zero = true_samples_zero.cuda()\n",
        "    mmd_mod.append(compute_mmd(true_samples_zero, z_zero))\n",
        "\n",
        "  if z_one.size()[0]>0:\n",
        "    if len(list(z_one.size()))<2:\n",
        "      z_one = z_one.unsqueeze(0)\n",
        "    true_samples_one = Variable(torch.stack([m_1.sample() for _ in range(z_one.size()[0])]), requires_grad=False)\n",
        "    if use_cuda:\n",
        "      true_samples_one = true_samples_one.cuda()\n",
        "    mmd_mod.append(compute_mmd(true_samples_one, z_one))\n",
        "\n",
        "  mmd = beta*((mmd_mod[0]+mmd_mod[1]) if len(mmd_mod)==2 else mmd_mod[0])\n",
        "  #nll = alpha*((x_reconstructed - x).pow(2).mean())\n",
        "  nll = alpha*(reconstruction_loss(x_reconstructed, x))\n",
        "\n",
        "  if eval_mode:\n",
        "    preds = model.predict(x)\n",
        "    return nll, mmd, preds\n",
        "  else:\n",
        "    return nll, mmd"
      ],
      "execution_count": null,
      "outputs": []
    },
    {
      "cell_type": "code",
      "metadata": {
        "id": "ulHyO40t02tf"
      },
      "source": [
        "# TODO: Save z_dim in pt file.\n",
        "centre_0 = -1.0\n",
        "centre_1 = 1.0\n",
        "\n",
        "def get_model(z_dim, lr, use_cuda=True, chkpt_path=None):\n",
        "  model = Model(z_dim)\n",
        "  model.centre_0 = centre_0\n",
        "  model.centre_1 = centre_1\n",
        "  if use_cuda:\n",
        "    model = model.cuda()\n",
        "  optimizer = torch.optim.Adam(model.parameters(), lr=lr)\n",
        "\n",
        "  if chkpt_path:\n",
        "    print(\"Loading model from checkpoint \"+chkpt_path+\" ....\")\n",
        "    checkpoint = torch.load(chkpt_path)\n",
        "    model.load_state_dict(checkpoint['model_state_dict'])\n",
        "    optimizer.load_state_dict(checkpoint['optimizer_state_dict'])\n",
        "    print(\"Done!\")\n",
        "\n",
        "  return model, optimizer"
      ],
      "execution_count": null,
      "outputs": []
    },
    {
      "cell_type": "code",
      "metadata": {
        "collapsed": true,
        "id": "ppmg5ATTILHL"
      },
      "source": [
        "def train(train_data, val_data, z_dim=2, n_epochs=10, alpha=1.0, beta=1.0, lr=0.001, use_cuda=True, batch_size=200, save_every=100, save_path=None, chkpt_path=None):\n",
        "  \n",
        "  m_0 = MultivariateNormal(torch.zeros(z_dim).fill_(centre_0), torch.zeros(z_dim, z_dim).fill_diagonal_(0.15))        # Cluster center for 0 datapoints is at (-2,-2,-2...)\n",
        "  m_1 = MultivariateNormal(torch.zeros(z_dim).fill_(centre_1), torch.zeros(z_dim, z_dim).fill_diagonal_(0.15))         # Cluster center for 1 datapoints is at (2, 2, 2...)\n",
        "    \n",
        "  model, optimizer = get_model(z_dim, lr, use_cuda, chkpt_path)\n",
        "  \n",
        "  best_model_wts = copy.deepcopy(model.state_dict())\n",
        "  best_opt_state = copy.deepcopy(optimizer.state_dict())\n",
        "  \n",
        "  best_epoch, best_acc = 0, 0.0\n",
        "  for epoch in range(n_epochs):\n",
        "    print('\\nEpoch {}/{}'.format(epoch, n_epochs - 1))\n",
        "    print('-' * 10)\n",
        "    \n",
        "    # Training Phase\n",
        "    model.train()\n",
        "    rec_loss, mmd_loss = [], []\n",
        "    for images, labels in tqdm(train_data):\n",
        "      optimizer.zero_grad()\n",
        "\n",
        "      nll, mmd = get_losses(model=model, \n",
        "                            images=images, \n",
        "                            labels=labels,\n",
        "                            alpha=alpha, beta=beta, \n",
        "                            m_0=m_0, m_1=m_1, \n",
        "                            use_cuda=use_cuda)\n",
        "\n",
        "      loss = nll + mmd\n",
        "\n",
        "      loss.backward()\n",
        "      optimizer.step()\n",
        "\n",
        "      rec_loss.append(nll.item())\n",
        "      mmd_loss.append(mmd.item())\n",
        "\n",
        "    print(\"Training Phase: NLL_Loss: {:.5f}, MMD_Loss: {:.5f}\".format(\n",
        "        (sum(rec_loss)/len(rec_loss)),\n",
        "        (sum(mmd_loss)/len(mmd_loss))\n",
        "    ))\n",
        "\n",
        "    # Validation Phase\n",
        "    model.eval()\n",
        "    rec_loss, mmd_loss, label_list, pred_list = [], [], [], []\n",
        "    for images, labels in tqdm(val_data):\n",
        "      nll, mmd, preds = get_losses(model=model, \n",
        "                                   images=images, \n",
        "                                   labels=labels, \n",
        "                                   alpha=alpha, beta=beta,\n",
        "                                   m_0=m_0, m_1=m_1, \n",
        "                                   use_cuda=use_cuda, eval_mode=True)\n",
        "\n",
        "      rec_loss.append(nll.item())\n",
        "      mmd_loss.append(mmd.item())\n",
        "\n",
        "      label_list.append(labels.cpu().numpy())\n",
        "      pred_list.append(preds.cpu().numpy())\n",
        "\n",
        "    label = np.concatenate(label_list)\n",
        "    preds = np.concatenate(pred_list)\n",
        "    epoch_rec_loss = (sum(rec_loss)/len(rec_loss))\n",
        "    epoch_mmd_loss = (sum(mmd_loss)/len(mmd_loss))\n",
        "    epoch_acc = np.sum(preds==label)/label.shape[0]\n",
        "    print(\"Validation Phase: NLL_Loss: {:.5f}, MMD_Loss: {:.5f}; Acc: {:.5f}; Corrects: {} of {}\".format(\n",
        "        epoch_rec_loss,\n",
        "        epoch_mmd_loss,\n",
        "        epoch_acc,\n",
        "        np.sum(preds==label),\n",
        "        label.shape[0]\n",
        "    ))\n",
        "\n",
        "    if epoch_acc > best_acc:\n",
        "      best_epoch = epoch\n",
        "      best_acc = epoch_acc\n",
        "      best_model_wts = copy.deepcopy(model.state_dict())\n",
        "      best_opt_state = copy.deepcopy(optimizer.state_dict())\n",
        "\n",
        "    if save_path and ((epoch+1)%save_every == 0):\n",
        "      print(\"\\nSaving best weights found so far... \", end='')\n",
        "      model_saver(best_model_wts, best_opt_state, save_path)\n",
        "      print(\"Done!\")\n",
        "                \n",
        "  print('\\n\\nAt Epoch {}: Best val Acc: {:4f}'.format(best_epoch, best_acc))\n",
        "  model.load_state_dict(best_model_wts)\n",
        "  return model"
      ],
      "execution_count": null,
      "outputs": []
    },
    {
      "cell_type": "markdown",
      "metadata": {
        "id": "KqBMfScDMVp1"
      },
      "source": [
        "# The Data"
      ]
    },
    {
      "cell_type": "markdown",
      "metadata": {
        "id": "nANSx4JmMa76"
      },
      "source": [
        "## Define PyTorch Sound Dataset Builder Class"
      ]
    },
    {
      "cell_type": "code",
      "metadata": {
        "id": "SqP_tZZ8MakA"
      },
      "source": [
        "class SoundDatasetBuilder(Dataset):\n",
        "  def __init__(self, annotations_file, audio_dir, transform, target_sample_rate):\n",
        "    self.annotations = pd.read_csv(annotations_file)\n",
        "    self.audio_dir = audio_dir\n",
        "    self.transform = transform\n",
        "    self.target_sr = target_sample_rate\n",
        "\n",
        "  def __len__(self):\n",
        "    return len(self.annotations)\n",
        "\n",
        "  def __getitem__(self, index):\n",
        "    audio_sample_path = self._get_audio_sample_path(index)\n",
        "    label = self._get_audio_sample_label(index)\n",
        "    signal, sr = torchaudio.load(audio_sample_path)\n",
        "    signal = self._resample_if_necessary(signal, sr)\n",
        "    #signal = self._get_2_seconds(signal, self.target_sr, index)\n",
        "    signal = self.transform(signal)\n",
        "    #signal = self._minMaxScaler(signal)\n",
        "    return signal, label\n",
        "\n",
        "  def _get_2_seconds(self, signal, sr, index):\n",
        "    frames_in_2s = 2*sr                                                         # Number of frames in 2 seconds\n",
        "    start_position = int(self.annotations['start'].iloc[index])*sr              # Get starting point for each signal\n",
        "    signal_2s = signal[..., start_position:start_position+frames_in_2s]\n",
        "    return signal_2s\n",
        "  \n",
        "  def _resample_if_necessary(self, signal, sr):\n",
        "    if sr != self.target_sr:\n",
        "      resampler = torchaudio.transforms.Resample(sr, self.target_sr)\n",
        "      signal = resampler(signal)\n",
        "    return signal\n",
        "\n",
        "  def _minMaxScaler(self, signal, min=0.0, max=1.0):\n",
        "    norm_signal = (signal - torch.min(signal)) / (torch.max(signal) - torch.min(signal))\n",
        "    norm_signal = norm_signal*(max-min) + min\n",
        "    return norm_signal\n",
        "\n",
        "  def _get_audio_sample_path(self, index):\n",
        "    path = os.path.join(self.audio_dir, self.annotations['filename'].iloc[index])\n",
        "    return path\n",
        "\n",
        "  def _get_audio_sample_label(self, index):\n",
        "    return self.annotations['label'].iloc[index]"
      ],
      "execution_count": null,
      "outputs": []
    },
    {
      "cell_type": "markdown",
      "metadata": {
        "id": "RPWsD0eiN87a"
      },
      "source": [
        "## Build Train and Val sets"
      ]
    },
    {
      "cell_type": "code",
      "metadata": {
        "colab": {
          "base_uri": "https://localhost:8080/"
        },
        "id": "K_8BEG_HOEzL",
        "outputId": "d549ace9-5317-44ed-baf8-8b2a67b022b6"
      },
      "source": [
        "SAMPLE_RATE = 16000\n",
        "mel_spectrogram = torchaudio.transforms.MelSpectrogram(\n",
        "        sample_rate=SAMPLE_RATE,\n",
        "        n_fft=1024,\n",
        "        hop_length=1251,\n",
        "        n_mels=128\n",
        "    )\n",
        "\n",
        "TRAIN_ANNOTATIONS_FILE = \"/content/drive/MyDrive/valve_wav/valve_data/train.csv\"\n",
        "TRAIN_AUDIO_DIR = \"/content/drive/MyDrive/valve_wav/valve_data/train\"\n",
        "train_data = SoundDatasetBuilder(TRAIN_ANNOTATIONS_FILE, TRAIN_AUDIO_DIR, mel_spectrogram, SAMPLE_RATE)\n",
        "\n",
        "VAL_ANNOTATIONS_FILE = \"/content/drive/MyDrive/valve_wav/valve_data/val.csv\"\n",
        "VAL_AUDIO_DIR = \"/content/drive/MyDrive/valve_wav/valve_data/test\"\n",
        "val_data = SoundDatasetBuilder(VAL_ANNOTATIONS_FILE, VAL_AUDIO_DIR, mel_spectrogram, SAMPLE_RATE)\n",
        "\n",
        "print(f\"There are {len(train_data)} samples in the training dataset.\")\n",
        "print(f\"There are {len(val_data)} samples in the validation dataset.\")"
      ],
      "execution_count": null,
      "outputs": [
        {
          "output_type": "stream",
          "name": "stdout",
          "text": [
            "There are 1918 samples in the training dataset.\n",
            "There are 240 samples in the validation dataset.\n"
          ]
        }
      ]
    },
    {
      "cell_type": "markdown",
      "metadata": {
        "id": "FyIXtJg6ILHN"
      },
      "source": [
        "# Train"
      ]
    },
    {
      "cell_type": "markdown",
      "metadata": {
        "id": "9fRFlToSPOAD"
      },
      "source": [
        "## Define DataLoaders"
      ]
    },
    {
      "cell_type": "code",
      "metadata": {
        "id": "qE8BKXLcPNoX"
      },
      "source": [
        "batch_size = 30               # Use 36, or 60    (Values that aren't perfect divisors of 9540 may cause training error) [Don't use small batch sizes]\n",
        "val_batch_size = 20\n",
        "\n",
        "train_loader = torch.utils.data.DataLoader(\n",
        "    train_data,\n",
        "    batch_size=batch_size, shuffle=True, num_workers=2,\n",
        "    pin_memory=True\n",
        ")\n",
        "\n",
        "val_loader = torch.utils.data.DataLoader(\n",
        "    val_data,\n",
        "    batch_size=val_batch_size, shuffle=True, num_workers=2,\n",
        "    pin_memory=True\n",
        ")"
      ],
      "execution_count": null,
      "outputs": []
    },
    {
      "cell_type": "code",
      "metadata": {
        "id": "-93aV8r0aA8u"
      },
      "source": [
        "MODEL_NAME = 'vae_128_valve_e60_a1b1p5.pt'"
      ],
      "execution_count": null,
      "outputs": []
    },
    {
      "cell_type": "code",
      "metadata": {
        "scrolled": false,
        "colab": {
          "base_uri": "https://localhost:8080/"
        },
        "id": "RMFeyqPuILHW",
        "outputId": "1c1e8136-36ff-4477-ae4b-d553a2cc09b2"
      },
      "source": [
        "z_dim = 3\n",
        "model = train(train_data = train_loader, \n",
        "              val_data = val_loader,\n",
        "              z_dim=z_dim, \n",
        "              batch_size=batch_size,\n",
        "              n_epochs=60,\n",
        "              alpha=1.0,\n",
        "              beta=1.5,\n",
        "              save_every=10,\n",
        "              save_path='/content/drive/MyDrive/valve_wav/VAE_Models/'+MODEL_NAME)\n",
        "              #chkpt_path='/content/drive/MyDrive/slider_data/VAE_Models/vae_small_slider_e60_a1b1p5.pt')       # Mention a a checkpoiny path to do transfer learning from a checkpoint (previously trained model)"
      ],
      "execution_count": null,
      "outputs": [
        {
          "output_type": "stream",
          "name": "stdout",
          "text": [
            "\n",
            "Epoch 0/59\n",
            "----------\n"
          ]
        },
        {
          "output_type": "stream",
          "name": "stderr",
          "text": [
            "100%|██████████| 64/64 [01:37<00:00,  1.52s/it]\n"
          ]
        },
        {
          "output_type": "stream",
          "name": "stdout",
          "text": [
            "Training Phase: NLL_Loss: 0.41187, MMD_Loss: 1.28271\n"
          ]
        },
        {
          "output_type": "stream",
          "name": "stderr",
          "text": [
            "100%|██████████| 12/12 [00:52<00:00,  4.40s/it]\n"
          ]
        },
        {
          "output_type": "stream",
          "name": "stdout",
          "text": [
            "Validation Phase: NLL_Loss: 0.29354, MMD_Loss: 1.08474; Acc: 0.56667; Corrects: 136 of 240\n",
            "\n",
            "Epoch 1/59\n",
            "----------\n"
          ]
        },
        {
          "output_type": "stream",
          "name": "stderr",
          "text": [
            "100%|██████████| 64/64 [01:14<00:00,  1.17s/it]\n"
          ]
        },
        {
          "output_type": "stream",
          "name": "stdout",
          "text": [
            "Training Phase: NLL_Loss: 0.35997, MMD_Loss: 0.71375\n"
          ]
        },
        {
          "output_type": "stream",
          "name": "stderr",
          "text": [
            "100%|██████████| 12/12 [00:16<00:00,  1.34s/it]\n"
          ]
        },
        {
          "output_type": "stream",
          "name": "stdout",
          "text": [
            "Validation Phase: NLL_Loss: 0.29636, MMD_Loss: 0.52425; Acc: 0.75000; Corrects: 180 of 240\n",
            "\n",
            "Epoch 2/59\n",
            "----------\n"
          ]
        },
        {
          "output_type": "stream",
          "name": "stderr",
          "text": [
            "100%|██████████| 64/64 [01:10<00:00,  1.10s/it]\n"
          ]
        },
        {
          "output_type": "stream",
          "name": "stdout",
          "text": [
            "Training Phase: NLL_Loss: 0.35883, MMD_Loss: 0.31302\n"
          ]
        },
        {
          "output_type": "stream",
          "name": "stderr",
          "text": [
            "100%|██████████| 12/12 [00:15<00:00,  1.33s/it]\n"
          ]
        },
        {
          "output_type": "stream",
          "name": "stdout",
          "text": [
            "Validation Phase: NLL_Loss: 0.29395, MMD_Loss: 0.25838; Acc: 0.88750; Corrects: 213 of 240\n",
            "\n",
            "Epoch 3/59\n",
            "----------\n"
          ]
        },
        {
          "output_type": "stream",
          "name": "stderr",
          "text": [
            "100%|██████████| 64/64 [01:08<00:00,  1.07s/it]\n"
          ]
        },
        {
          "output_type": "stream",
          "name": "stdout",
          "text": [
            "Training Phase: NLL_Loss: 0.35602, MMD_Loss: 0.11578\n"
          ]
        },
        {
          "output_type": "stream",
          "name": "stderr",
          "text": [
            "100%|██████████| 12/12 [00:13<00:00,  1.09s/it]\n"
          ]
        },
        {
          "output_type": "stream",
          "name": "stdout",
          "text": [
            "Validation Phase: NLL_Loss: 0.29209, MMD_Loss: 0.19419; Acc: 0.90833; Corrects: 218 of 240\n",
            "\n",
            "Epoch 4/59\n",
            "----------\n"
          ]
        },
        {
          "output_type": "stream",
          "name": "stderr",
          "text": [
            "100%|██████████| 64/64 [01:10<00:00,  1.10s/it]\n"
          ]
        },
        {
          "output_type": "stream",
          "name": "stdout",
          "text": [
            "Training Phase: NLL_Loss: 0.35485, MMD_Loss: 0.10183\n"
          ]
        },
        {
          "output_type": "stream",
          "name": "stderr",
          "text": [
            "100%|██████████| 12/12 [00:13<00:00,  1.10s/it]\n"
          ]
        },
        {
          "output_type": "stream",
          "name": "stdout",
          "text": [
            "Validation Phase: NLL_Loss: 0.29161, MMD_Loss: 0.10771; Acc: 0.93333; Corrects: 224 of 240\n",
            "\n",
            "Epoch 5/59\n",
            "----------\n"
          ]
        },
        {
          "output_type": "stream",
          "name": "stderr",
          "text": [
            "100%|██████████| 64/64 [01:10<00:00,  1.10s/it]\n"
          ]
        },
        {
          "output_type": "stream",
          "name": "stdout",
          "text": [
            "Training Phase: NLL_Loss: 0.35427, MMD_Loss: 0.07335\n"
          ]
        },
        {
          "output_type": "stream",
          "name": "stderr",
          "text": [
            "100%|██████████| 12/12 [00:12<00:00,  1.04s/it]\n"
          ]
        },
        {
          "output_type": "stream",
          "name": "stdout",
          "text": [
            "Validation Phase: NLL_Loss: 0.29102, MMD_Loss: 0.08261; Acc: 0.95417; Corrects: 229 of 240\n",
            "\n",
            "Epoch 6/59\n",
            "----------\n"
          ]
        },
        {
          "output_type": "stream",
          "name": "stderr",
          "text": [
            "100%|██████████| 64/64 [01:08<00:00,  1.08s/it]\n"
          ]
        },
        {
          "output_type": "stream",
          "name": "stdout",
          "text": [
            "Training Phase: NLL_Loss: 0.35393, MMD_Loss: 0.06031\n"
          ]
        },
        {
          "output_type": "stream",
          "name": "stderr",
          "text": [
            "100%|██████████| 12/12 [00:12<00:00,  1.01s/it]\n"
          ]
        },
        {
          "output_type": "stream",
          "name": "stdout",
          "text": [
            "Validation Phase: NLL_Loss: 0.29077, MMD_Loss: 0.12464; Acc: 0.95417; Corrects: 229 of 240\n",
            "\n",
            "Epoch 7/59\n",
            "----------\n"
          ]
        },
        {
          "output_type": "stream",
          "name": "stderr",
          "text": [
            "100%|██████████| 64/64 [01:08<00:00,  1.07s/it]\n"
          ]
        },
        {
          "output_type": "stream",
          "name": "stdout",
          "text": [
            "Training Phase: NLL_Loss: 0.35395, MMD_Loss: 0.06559\n"
          ]
        },
        {
          "output_type": "stream",
          "name": "stderr",
          "text": [
            "100%|██████████| 12/12 [00:14<00:00,  1.20s/it]\n"
          ]
        },
        {
          "output_type": "stream",
          "name": "stdout",
          "text": [
            "Validation Phase: NLL_Loss: 0.29059, MMD_Loss: 0.06387; Acc: 0.96250; Corrects: 231 of 240\n",
            "\n",
            "Epoch 8/59\n",
            "----------\n"
          ]
        },
        {
          "output_type": "stream",
          "name": "stderr",
          "text": [
            "100%|██████████| 64/64 [01:09<00:00,  1.09s/it]\n"
          ]
        },
        {
          "output_type": "stream",
          "name": "stdout",
          "text": [
            "Training Phase: NLL_Loss: 0.35352, MMD_Loss: 0.05860\n"
          ]
        },
        {
          "output_type": "stream",
          "name": "stderr",
          "text": [
            "100%|██████████| 12/12 [00:10<00:00,  1.16it/s]\n"
          ]
        },
        {
          "output_type": "stream",
          "name": "stdout",
          "text": [
            "Validation Phase: NLL_Loss: 0.29085, MMD_Loss: 0.07054; Acc: 0.96667; Corrects: 232 of 240\n",
            "\n",
            "Epoch 9/59\n",
            "----------\n"
          ]
        },
        {
          "output_type": "stream",
          "name": "stderr",
          "text": [
            "100%|██████████| 64/64 [01:06<00:00,  1.04s/it]\n"
          ]
        },
        {
          "output_type": "stream",
          "name": "stdout",
          "text": [
            "Training Phase: NLL_Loss: 0.35383, MMD_Loss: 0.06061\n"
          ]
        },
        {
          "output_type": "stream",
          "name": "stderr",
          "text": [
            "100%|██████████| 12/12 [00:13<00:00,  1.13s/it]\n"
          ]
        },
        {
          "output_type": "stream",
          "name": "stdout",
          "text": [
            "Validation Phase: NLL_Loss: 0.29083, MMD_Loss: 0.08226; Acc: 0.97083; Corrects: 233 of 240\n",
            "\n",
            "Saving best weights found so far... Done!\n",
            "\n",
            "Epoch 10/59\n",
            "----------\n"
          ]
        },
        {
          "output_type": "stream",
          "name": "stderr",
          "text": [
            "100%|██████████| 64/64 [01:05<00:00,  1.02s/it]\n"
          ]
        },
        {
          "output_type": "stream",
          "name": "stdout",
          "text": [
            "Training Phase: NLL_Loss: 0.35365, MMD_Loss: 0.05433\n"
          ]
        },
        {
          "output_type": "stream",
          "name": "stderr",
          "text": [
            "100%|██████████| 12/12 [00:09<00:00,  1.26it/s]\n"
          ]
        },
        {
          "output_type": "stream",
          "name": "stdout",
          "text": [
            "Validation Phase: NLL_Loss: 0.29047, MMD_Loss: 0.11047; Acc: 0.97500; Corrects: 234 of 240\n",
            "\n",
            "Epoch 11/59\n",
            "----------\n"
          ]
        },
        {
          "output_type": "stream",
          "name": "stderr",
          "text": [
            "100%|██████████| 64/64 [01:02<00:00,  1.03it/s]\n"
          ]
        },
        {
          "output_type": "stream",
          "name": "stdout",
          "text": [
            "Training Phase: NLL_Loss: 0.35354, MMD_Loss: 0.05896\n"
          ]
        },
        {
          "output_type": "stream",
          "name": "stderr",
          "text": [
            "100%|██████████| 12/12 [00:07<00:00,  1.59it/s]\n"
          ]
        },
        {
          "output_type": "stream",
          "name": "stdout",
          "text": [
            "Validation Phase: NLL_Loss: 0.29054, MMD_Loss: 0.07143; Acc: 0.95833; Corrects: 230 of 240\n",
            "\n",
            "Epoch 12/59\n",
            "----------\n"
          ]
        },
        {
          "output_type": "stream",
          "name": "stderr",
          "text": [
            "100%|██████████| 64/64 [01:02<00:00,  1.02it/s]\n"
          ]
        },
        {
          "output_type": "stream",
          "name": "stdout",
          "text": [
            "Training Phase: NLL_Loss: 0.35339, MMD_Loss: 0.04760\n"
          ]
        },
        {
          "output_type": "stream",
          "name": "stderr",
          "text": [
            "100%|██████████| 12/12 [00:06<00:00,  1.76it/s]\n"
          ]
        },
        {
          "output_type": "stream",
          "name": "stdout",
          "text": [
            "Validation Phase: NLL_Loss: 0.29044, MMD_Loss: 0.09672; Acc: 0.96250; Corrects: 231 of 240\n",
            "\n",
            "Epoch 13/59\n",
            "----------\n"
          ]
        },
        {
          "output_type": "stream",
          "name": "stderr",
          "text": [
            "100%|██████████| 64/64 [01:02<00:00,  1.02it/s]\n"
          ]
        },
        {
          "output_type": "stream",
          "name": "stdout",
          "text": [
            "Training Phase: NLL_Loss: 0.35339, MMD_Loss: 0.05072\n"
          ]
        },
        {
          "output_type": "stream",
          "name": "stderr",
          "text": [
            "100%|██████████| 12/12 [00:06<00:00,  1.82it/s]\n"
          ]
        },
        {
          "output_type": "stream",
          "name": "stdout",
          "text": [
            "Validation Phase: NLL_Loss: 0.29022, MMD_Loss: 0.05795; Acc: 0.97917; Corrects: 235 of 240\n",
            "\n",
            "Epoch 14/59\n",
            "----------\n"
          ]
        },
        {
          "output_type": "stream",
          "name": "stderr",
          "text": [
            "100%|██████████| 64/64 [01:01<00:00,  1.04it/s]\n"
          ]
        },
        {
          "output_type": "stream",
          "name": "stdout",
          "text": [
            "Training Phase: NLL_Loss: 0.35325, MMD_Loss: 0.05058\n"
          ]
        },
        {
          "output_type": "stream",
          "name": "stderr",
          "text": [
            "100%|██████████| 12/12 [00:06<00:00,  1.79it/s]\n"
          ]
        },
        {
          "output_type": "stream",
          "name": "stdout",
          "text": [
            "Validation Phase: NLL_Loss: 0.29034, MMD_Loss: 0.09695; Acc: 0.97917; Corrects: 235 of 240\n",
            "\n",
            "Epoch 15/59\n",
            "----------\n"
          ]
        },
        {
          "output_type": "stream",
          "name": "stderr",
          "text": [
            "100%|██████████| 64/64 [00:59<00:00,  1.07it/s]\n"
          ]
        },
        {
          "output_type": "stream",
          "name": "stdout",
          "text": [
            "Training Phase: NLL_Loss: 0.35332, MMD_Loss: 0.04309\n"
          ]
        },
        {
          "output_type": "stream",
          "name": "stderr",
          "text": [
            "100%|██████████| 12/12 [00:06<00:00,  1.77it/s]\n"
          ]
        },
        {
          "output_type": "stream",
          "name": "stdout",
          "text": [
            "Validation Phase: NLL_Loss: 0.28993, MMD_Loss: 0.05873; Acc: 0.98750; Corrects: 237 of 240\n",
            "\n",
            "Epoch 16/59\n",
            "----------\n"
          ]
        },
        {
          "output_type": "stream",
          "name": "stderr",
          "text": [
            "100%|██████████| 64/64 [00:58<00:00,  1.09it/s]\n"
          ]
        },
        {
          "output_type": "stream",
          "name": "stdout",
          "text": [
            "Training Phase: NLL_Loss: 0.35314, MMD_Loss: 0.04939\n"
          ]
        },
        {
          "output_type": "stream",
          "name": "stderr",
          "text": [
            "100%|██████████| 12/12 [00:06<00:00,  1.78it/s]\n"
          ]
        },
        {
          "output_type": "stream",
          "name": "stdout",
          "text": [
            "Validation Phase: NLL_Loss: 0.29052, MMD_Loss: 0.10101; Acc: 0.97500; Corrects: 234 of 240\n",
            "\n",
            "Epoch 17/59\n",
            "----------\n"
          ]
        },
        {
          "output_type": "stream",
          "name": "stderr",
          "text": [
            "100%|██████████| 64/64 [00:58<00:00,  1.10it/s]\n"
          ]
        },
        {
          "output_type": "stream",
          "name": "stdout",
          "text": [
            "Training Phase: NLL_Loss: 0.35287, MMD_Loss: 0.05137\n"
          ]
        },
        {
          "output_type": "stream",
          "name": "stderr",
          "text": [
            "100%|██████████| 12/12 [00:06<00:00,  1.78it/s]\n"
          ]
        },
        {
          "output_type": "stream",
          "name": "stdout",
          "text": [
            "Validation Phase: NLL_Loss: 0.28969, MMD_Loss: 0.04461; Acc: 0.98333; Corrects: 236 of 240\n",
            "\n",
            "Epoch 18/59\n",
            "----------\n"
          ]
        },
        {
          "output_type": "stream",
          "name": "stderr",
          "text": [
            "100%|██████████| 64/64 [00:57<00:00,  1.12it/s]\n"
          ]
        },
        {
          "output_type": "stream",
          "name": "stdout",
          "text": [
            "Training Phase: NLL_Loss: 0.35292, MMD_Loss: 0.04601\n"
          ]
        },
        {
          "output_type": "stream",
          "name": "stderr",
          "text": [
            "100%|██████████| 12/12 [00:06<00:00,  1.74it/s]\n"
          ]
        },
        {
          "output_type": "stream",
          "name": "stdout",
          "text": [
            "Validation Phase: NLL_Loss: 0.28990, MMD_Loss: 0.07693; Acc: 0.97500; Corrects: 234 of 240\n",
            "\n",
            "Epoch 19/59\n",
            "----------\n"
          ]
        },
        {
          "output_type": "stream",
          "name": "stderr",
          "text": [
            "100%|██████████| 64/64 [00:56<00:00,  1.13it/s]\n"
          ]
        },
        {
          "output_type": "stream",
          "name": "stdout",
          "text": [
            "Training Phase: NLL_Loss: 0.35290, MMD_Loss: 0.05217\n"
          ]
        },
        {
          "output_type": "stream",
          "name": "stderr",
          "text": [
            "100%|██████████| 12/12 [00:06<00:00,  1.78it/s]\n"
          ]
        },
        {
          "output_type": "stream",
          "name": "stdout",
          "text": [
            "Validation Phase: NLL_Loss: 0.29034, MMD_Loss: 0.06685; Acc: 0.98333; Corrects: 236 of 240\n",
            "\n",
            "Saving best weights found so far... Done!\n",
            "\n",
            "Epoch 20/59\n",
            "----------\n"
          ]
        },
        {
          "output_type": "stream",
          "name": "stderr",
          "text": [
            "100%|██████████| 64/64 [00:56<00:00,  1.14it/s]\n"
          ]
        },
        {
          "output_type": "stream",
          "name": "stdout",
          "text": [
            "Training Phase: NLL_Loss: 0.35267, MMD_Loss: 0.04699\n"
          ]
        },
        {
          "output_type": "stream",
          "name": "stderr",
          "text": [
            "100%|██████████| 12/12 [00:06<00:00,  1.79it/s]\n"
          ]
        },
        {
          "output_type": "stream",
          "name": "stdout",
          "text": [
            "Validation Phase: NLL_Loss: 0.28971, MMD_Loss: 0.07806; Acc: 0.97917; Corrects: 235 of 240\n",
            "\n",
            "Epoch 21/59\n",
            "----------\n"
          ]
        },
        {
          "output_type": "stream",
          "name": "stderr",
          "text": [
            "100%|██████████| 64/64 [00:55<00:00,  1.15it/s]\n"
          ]
        },
        {
          "output_type": "stream",
          "name": "stdout",
          "text": [
            "Training Phase: NLL_Loss: 0.35252, MMD_Loss: 0.04459\n"
          ]
        },
        {
          "output_type": "stream",
          "name": "stderr",
          "text": [
            "100%|██████████| 12/12 [00:06<00:00,  1.76it/s]\n"
          ]
        },
        {
          "output_type": "stream",
          "name": "stdout",
          "text": [
            "Validation Phase: NLL_Loss: 0.28902, MMD_Loss: 0.05750; Acc: 0.97917; Corrects: 235 of 240\n",
            "\n",
            "Epoch 22/59\n",
            "----------\n"
          ]
        },
        {
          "output_type": "stream",
          "name": "stderr",
          "text": [
            "100%|██████████| 64/64 [00:55<00:00,  1.15it/s]\n"
          ]
        },
        {
          "output_type": "stream",
          "name": "stdout",
          "text": [
            "Training Phase: NLL_Loss: 0.35214, MMD_Loss: 0.04534\n"
          ]
        },
        {
          "output_type": "stream",
          "name": "stderr",
          "text": [
            "100%|██████████| 12/12 [00:06<00:00,  1.75it/s]\n"
          ]
        },
        {
          "output_type": "stream",
          "name": "stdout",
          "text": [
            "Validation Phase: NLL_Loss: 0.28989, MMD_Loss: 0.05379; Acc: 0.97917; Corrects: 235 of 240\n",
            "\n",
            "Epoch 23/59\n",
            "----------\n"
          ]
        },
        {
          "output_type": "stream",
          "name": "stderr",
          "text": [
            "100%|██████████| 64/64 [00:54<00:00,  1.17it/s]\n"
          ]
        },
        {
          "output_type": "stream",
          "name": "stdout",
          "text": [
            "Training Phase: NLL_Loss: 0.35200, MMD_Loss: 0.04244\n"
          ]
        },
        {
          "output_type": "stream",
          "name": "stderr",
          "text": [
            "100%|██████████| 12/12 [00:06<00:00,  1.75it/s]\n"
          ]
        },
        {
          "output_type": "stream",
          "name": "stdout",
          "text": [
            "Validation Phase: NLL_Loss: 0.28878, MMD_Loss: 0.05526; Acc: 0.98333; Corrects: 236 of 240\n",
            "\n",
            "Epoch 24/59\n",
            "----------\n"
          ]
        },
        {
          "output_type": "stream",
          "name": "stderr",
          "text": [
            "100%|██████████| 64/64 [00:54<00:00,  1.16it/s]\n"
          ]
        },
        {
          "output_type": "stream",
          "name": "stdout",
          "text": [
            "Training Phase: NLL_Loss: 0.35166, MMD_Loss: 0.04164\n"
          ]
        },
        {
          "output_type": "stream",
          "name": "stderr",
          "text": [
            "100%|██████████| 12/12 [00:06<00:00,  1.74it/s]\n"
          ]
        },
        {
          "output_type": "stream",
          "name": "stdout",
          "text": [
            "Validation Phase: NLL_Loss: 0.28883, MMD_Loss: 0.05676; Acc: 0.98333; Corrects: 236 of 240\n",
            "\n",
            "Epoch 25/59\n",
            "----------\n"
          ]
        },
        {
          "output_type": "stream",
          "name": "stderr",
          "text": [
            "100%|██████████| 64/64 [00:54<00:00,  1.18it/s]\n"
          ]
        },
        {
          "output_type": "stream",
          "name": "stdout",
          "text": [
            "Training Phase: NLL_Loss: 0.35149, MMD_Loss: 0.04072\n"
          ]
        },
        {
          "output_type": "stream",
          "name": "stderr",
          "text": [
            "100%|██████████| 12/12 [00:06<00:00,  1.77it/s]\n"
          ]
        },
        {
          "output_type": "stream",
          "name": "stdout",
          "text": [
            "Validation Phase: NLL_Loss: 0.28829, MMD_Loss: 0.07023; Acc: 0.97917; Corrects: 235 of 240\n",
            "\n",
            "Epoch 26/59\n",
            "----------\n"
          ]
        },
        {
          "output_type": "stream",
          "name": "stderr",
          "text": [
            "100%|██████████| 64/64 [00:53<00:00,  1.19it/s]\n"
          ]
        },
        {
          "output_type": "stream",
          "name": "stdout",
          "text": [
            "Training Phase: NLL_Loss: 0.35105, MMD_Loss: 0.04276\n"
          ]
        },
        {
          "output_type": "stream",
          "name": "stderr",
          "text": [
            "100%|██████████| 12/12 [00:06<00:00,  1.77it/s]\n"
          ]
        },
        {
          "output_type": "stream",
          "name": "stdout",
          "text": [
            "Validation Phase: NLL_Loss: 0.28785, MMD_Loss: 0.05760; Acc: 0.98750; Corrects: 237 of 240\n",
            "\n",
            "Epoch 27/59\n",
            "----------\n"
          ]
        },
        {
          "output_type": "stream",
          "name": "stderr",
          "text": [
            "100%|██████████| 64/64 [00:54<00:00,  1.18it/s]\n"
          ]
        },
        {
          "output_type": "stream",
          "name": "stdout",
          "text": [
            "Training Phase: NLL_Loss: 0.35093, MMD_Loss: 0.04205\n"
          ]
        },
        {
          "output_type": "stream",
          "name": "stderr",
          "text": [
            "100%|██████████| 12/12 [00:06<00:00,  1.75it/s]\n"
          ]
        },
        {
          "output_type": "stream",
          "name": "stdout",
          "text": [
            "Validation Phase: NLL_Loss: 0.28764, MMD_Loss: 0.08433; Acc: 0.97917; Corrects: 235 of 240\n",
            "\n",
            "Epoch 28/59\n",
            "----------\n"
          ]
        },
        {
          "output_type": "stream",
          "name": "stderr",
          "text": [
            "100%|██████████| 64/64 [00:54<00:00,  1.18it/s]\n"
          ]
        },
        {
          "output_type": "stream",
          "name": "stdout",
          "text": [
            "Training Phase: NLL_Loss: 0.35000, MMD_Loss: 0.04203\n"
          ]
        },
        {
          "output_type": "stream",
          "name": "stderr",
          "text": [
            "100%|██████████| 12/12 [00:06<00:00,  1.74it/s]\n"
          ]
        },
        {
          "output_type": "stream",
          "name": "stdout",
          "text": [
            "Validation Phase: NLL_Loss: 0.28709, MMD_Loss: 0.05992; Acc: 0.99167; Corrects: 238 of 240\n",
            "\n",
            "Epoch 29/59\n",
            "----------\n"
          ]
        },
        {
          "output_type": "stream",
          "name": "stderr",
          "text": [
            "100%|██████████| 64/64 [00:54<00:00,  1.18it/s]\n"
          ]
        },
        {
          "output_type": "stream",
          "name": "stdout",
          "text": [
            "Training Phase: NLL_Loss: 0.35011, MMD_Loss: 0.03941\n"
          ]
        },
        {
          "output_type": "stream",
          "name": "stderr",
          "text": [
            "100%|██████████| 12/12 [00:07<00:00,  1.71it/s]\n"
          ]
        },
        {
          "output_type": "stream",
          "name": "stdout",
          "text": [
            "Validation Phase: NLL_Loss: 0.28655, MMD_Loss: 0.09530; Acc: 0.98750; Corrects: 237 of 240\n",
            "\n",
            "Saving best weights found so far... Done!\n",
            "\n",
            "Epoch 30/59\n",
            "----------\n"
          ]
        },
        {
          "output_type": "stream",
          "name": "stderr",
          "text": [
            "100%|██████████| 64/64 [00:53<00:00,  1.19it/s]\n"
          ]
        },
        {
          "output_type": "stream",
          "name": "stdout",
          "text": [
            "Training Phase: NLL_Loss: 0.34879, MMD_Loss: 0.04300\n"
          ]
        },
        {
          "output_type": "stream",
          "name": "stderr",
          "text": [
            "100%|██████████| 12/12 [00:07<00:00,  1.71it/s]\n"
          ]
        },
        {
          "output_type": "stream",
          "name": "stdout",
          "text": [
            "Validation Phase: NLL_Loss: 0.28549, MMD_Loss: 0.06154; Acc: 0.98333; Corrects: 236 of 240\n",
            "\n",
            "Epoch 31/59\n",
            "----------\n"
          ]
        },
        {
          "output_type": "stream",
          "name": "stderr",
          "text": [
            "100%|██████████| 64/64 [00:55<00:00,  1.16it/s]\n"
          ]
        },
        {
          "output_type": "stream",
          "name": "stdout",
          "text": [
            "Training Phase: NLL_Loss: 0.34728, MMD_Loss: 0.03754\n"
          ]
        },
        {
          "output_type": "stream",
          "name": "stderr",
          "text": [
            "100%|██████████| 12/12 [00:06<00:00,  1.74it/s]\n"
          ]
        },
        {
          "output_type": "stream",
          "name": "stdout",
          "text": [
            "Validation Phase: NLL_Loss: 0.28215, MMD_Loss: 0.04364; Acc: 0.99167; Corrects: 238 of 240\n",
            "\n",
            "Epoch 32/59\n",
            "----------\n"
          ]
        },
        {
          "output_type": "stream",
          "name": "stderr",
          "text": [
            "100%|██████████| 64/64 [00:54<00:00,  1.18it/s]\n"
          ]
        },
        {
          "output_type": "stream",
          "name": "stdout",
          "text": [
            "Training Phase: NLL_Loss: 0.34319, MMD_Loss: 0.04096\n"
          ]
        },
        {
          "output_type": "stream",
          "name": "stderr",
          "text": [
            "100%|██████████| 12/12 [00:06<00:00,  1.77it/s]\n"
          ]
        },
        {
          "output_type": "stream",
          "name": "stdout",
          "text": [
            "Validation Phase: NLL_Loss: 0.27896, MMD_Loss: 0.05948; Acc: 0.99167; Corrects: 238 of 240\n",
            "\n",
            "Epoch 33/59\n",
            "----------\n"
          ]
        },
        {
          "output_type": "stream",
          "name": "stderr",
          "text": [
            "100%|██████████| 64/64 [00:54<00:00,  1.18it/s]\n"
          ]
        },
        {
          "output_type": "stream",
          "name": "stdout",
          "text": [
            "Training Phase: NLL_Loss: 0.34119, MMD_Loss: 0.03248\n"
          ]
        },
        {
          "output_type": "stream",
          "name": "stderr",
          "text": [
            "100%|██████████| 12/12 [00:06<00:00,  1.77it/s]\n"
          ]
        },
        {
          "output_type": "stream",
          "name": "stdout",
          "text": [
            "Validation Phase: NLL_Loss: 0.27789, MMD_Loss: 0.04545; Acc: 0.99167; Corrects: 238 of 240\n",
            "\n",
            "Epoch 34/59\n",
            "----------\n"
          ]
        },
        {
          "output_type": "stream",
          "name": "stderr",
          "text": [
            "100%|██████████| 64/64 [00:54<00:00,  1.18it/s]\n"
          ]
        },
        {
          "output_type": "stream",
          "name": "stdout",
          "text": [
            "Training Phase: NLL_Loss: 0.34084, MMD_Loss: 0.03938\n"
          ]
        },
        {
          "output_type": "stream",
          "name": "stderr",
          "text": [
            "100%|██████████| 12/12 [00:06<00:00,  1.78it/s]\n"
          ]
        },
        {
          "output_type": "stream",
          "name": "stdout",
          "text": [
            "Validation Phase: NLL_Loss: 0.27746, MMD_Loss: 0.05088; Acc: 0.99167; Corrects: 238 of 240\n",
            "\n",
            "Epoch 35/59\n",
            "----------\n"
          ]
        },
        {
          "output_type": "stream",
          "name": "stderr",
          "text": [
            "100%|██████████| 64/64 [00:53<00:00,  1.19it/s]\n"
          ]
        },
        {
          "output_type": "stream",
          "name": "stdout",
          "text": [
            "Training Phase: NLL_Loss: 0.34016, MMD_Loss: 0.04305\n"
          ]
        },
        {
          "output_type": "stream",
          "name": "stderr",
          "text": [
            "100%|██████████| 12/12 [00:06<00:00,  1.76it/s]\n"
          ]
        },
        {
          "output_type": "stream",
          "name": "stdout",
          "text": [
            "Validation Phase: NLL_Loss: 0.27720, MMD_Loss: 0.07383; Acc: 0.98333; Corrects: 236 of 240\n",
            "\n",
            "Epoch 36/59\n",
            "----------\n"
          ]
        },
        {
          "output_type": "stream",
          "name": "stderr",
          "text": [
            "100%|██████████| 64/64 [00:54<00:00,  1.18it/s]\n"
          ]
        },
        {
          "output_type": "stream",
          "name": "stdout",
          "text": [
            "Training Phase: NLL_Loss: 0.33949, MMD_Loss: 0.04349\n"
          ]
        },
        {
          "output_type": "stream",
          "name": "stderr",
          "text": [
            "100%|██████████| 12/12 [00:06<00:00,  1.78it/s]\n"
          ]
        },
        {
          "output_type": "stream",
          "name": "stdout",
          "text": [
            "Validation Phase: NLL_Loss: 0.27775, MMD_Loss: 0.05455; Acc: 0.98333; Corrects: 236 of 240\n",
            "\n",
            "Epoch 37/59\n",
            "----------\n"
          ]
        },
        {
          "output_type": "stream",
          "name": "stderr",
          "text": [
            "100%|██████████| 64/64 [00:54<00:00,  1.18it/s]\n"
          ]
        },
        {
          "output_type": "stream",
          "name": "stdout",
          "text": [
            "Training Phase: NLL_Loss: 0.34003, MMD_Loss: 0.04515\n"
          ]
        },
        {
          "output_type": "stream",
          "name": "stderr",
          "text": [
            "100%|██████████| 12/12 [00:06<00:00,  1.75it/s]\n"
          ]
        },
        {
          "output_type": "stream",
          "name": "stdout",
          "text": [
            "Validation Phase: NLL_Loss: 0.27603, MMD_Loss: 0.06212; Acc: 0.97917; Corrects: 235 of 240\n",
            "\n",
            "Epoch 38/59\n",
            "----------\n"
          ]
        },
        {
          "output_type": "stream",
          "name": "stderr",
          "text": [
            "100%|██████████| 64/64 [00:53<00:00,  1.19it/s]\n"
          ]
        },
        {
          "output_type": "stream",
          "name": "stdout",
          "text": [
            "Training Phase: NLL_Loss: 0.34009, MMD_Loss: 0.04223\n"
          ]
        },
        {
          "output_type": "stream",
          "name": "stderr",
          "text": [
            "100%|██████████| 12/12 [00:06<00:00,  1.75it/s]\n"
          ]
        },
        {
          "output_type": "stream",
          "name": "stdout",
          "text": [
            "Validation Phase: NLL_Loss: 0.28129, MMD_Loss: 0.06197; Acc: 0.99167; Corrects: 238 of 240\n",
            "\n",
            "Epoch 39/59\n",
            "----------\n"
          ]
        },
        {
          "output_type": "stream",
          "name": "stderr",
          "text": [
            "100%|██████████| 64/64 [00:53<00:00,  1.20it/s]\n"
          ]
        },
        {
          "output_type": "stream",
          "name": "stdout",
          "text": [
            "Training Phase: NLL_Loss: 0.33940, MMD_Loss: 0.03864\n"
          ]
        },
        {
          "output_type": "stream",
          "name": "stderr",
          "text": [
            "100%|██████████| 12/12 [00:06<00:00,  1.78it/s]\n"
          ]
        },
        {
          "output_type": "stream",
          "name": "stdout",
          "text": [
            "Validation Phase: NLL_Loss: 0.27686, MMD_Loss: 0.07785; Acc: 0.98333; Corrects: 236 of 240\n",
            "\n",
            "Saving best weights found so far... Done!\n",
            "\n",
            "Epoch 40/59\n",
            "----------\n"
          ]
        },
        {
          "output_type": "stream",
          "name": "stderr",
          "text": [
            "100%|██████████| 64/64 [00:53<00:00,  1.19it/s]\n"
          ]
        },
        {
          "output_type": "stream",
          "name": "stdout",
          "text": [
            "Training Phase: NLL_Loss: 0.33930, MMD_Loss: 0.04724\n"
          ]
        },
        {
          "output_type": "stream",
          "name": "stderr",
          "text": [
            "100%|██████████| 12/12 [00:06<00:00,  1.78it/s]\n"
          ]
        },
        {
          "output_type": "stream",
          "name": "stdout",
          "text": [
            "Validation Phase: NLL_Loss: 0.27850, MMD_Loss: 0.04547; Acc: 0.98333; Corrects: 236 of 240\n",
            "\n",
            "Epoch 41/59\n",
            "----------\n"
          ]
        },
        {
          "output_type": "stream",
          "name": "stderr",
          "text": [
            "100%|██████████| 64/64 [00:53<00:00,  1.19it/s]\n"
          ]
        },
        {
          "output_type": "stream",
          "name": "stdout",
          "text": [
            "Training Phase: NLL_Loss: 0.33887, MMD_Loss: 0.03690\n"
          ]
        },
        {
          "output_type": "stream",
          "name": "stderr",
          "text": [
            "100%|██████████| 12/12 [00:06<00:00,  1.77it/s]\n"
          ]
        },
        {
          "output_type": "stream",
          "name": "stdout",
          "text": [
            "Validation Phase: NLL_Loss: 0.27620, MMD_Loss: 0.06139; Acc: 0.98333; Corrects: 236 of 240\n",
            "\n",
            "Epoch 42/59\n",
            "----------\n"
          ]
        },
        {
          "output_type": "stream",
          "name": "stderr",
          "text": [
            "100%|██████████| 64/64 [00:53<00:00,  1.19it/s]\n"
          ]
        },
        {
          "output_type": "stream",
          "name": "stdout",
          "text": [
            "Training Phase: NLL_Loss: 0.33774, MMD_Loss: 0.03808\n"
          ]
        },
        {
          "output_type": "stream",
          "name": "stderr",
          "text": [
            "100%|██████████| 12/12 [00:06<00:00,  1.78it/s]\n"
          ]
        },
        {
          "output_type": "stream",
          "name": "stdout",
          "text": [
            "Validation Phase: NLL_Loss: 0.27573, MMD_Loss: 0.05718; Acc: 0.99167; Corrects: 238 of 240\n",
            "\n",
            "Epoch 43/59\n",
            "----------\n"
          ]
        },
        {
          "output_type": "stream",
          "name": "stderr",
          "text": [
            "100%|██████████| 64/64 [00:53<00:00,  1.20it/s]\n"
          ]
        },
        {
          "output_type": "stream",
          "name": "stdout",
          "text": [
            "Training Phase: NLL_Loss: 0.33769, MMD_Loss: 0.03890\n"
          ]
        },
        {
          "output_type": "stream",
          "name": "stderr",
          "text": [
            "100%|██████████| 12/12 [00:06<00:00,  1.77it/s]\n"
          ]
        },
        {
          "output_type": "stream",
          "name": "stdout",
          "text": [
            "Validation Phase: NLL_Loss: 0.27561, MMD_Loss: 0.05204; Acc: 0.98750; Corrects: 237 of 240\n",
            "\n",
            "Epoch 44/59\n",
            "----------\n"
          ]
        },
        {
          "output_type": "stream",
          "name": "stderr",
          "text": [
            "100%|██████████| 64/64 [00:53<00:00,  1.20it/s]\n"
          ]
        },
        {
          "output_type": "stream",
          "name": "stdout",
          "text": [
            "Training Phase: NLL_Loss: 0.33706, MMD_Loss: 0.04203\n"
          ]
        },
        {
          "output_type": "stream",
          "name": "stderr",
          "text": [
            "100%|██████████| 12/12 [00:06<00:00,  1.78it/s]\n"
          ]
        },
        {
          "output_type": "stream",
          "name": "stdout",
          "text": [
            "Validation Phase: NLL_Loss: 0.27488, MMD_Loss: 0.06026; Acc: 0.99167; Corrects: 238 of 240\n",
            "\n",
            "Epoch 45/59\n",
            "----------\n"
          ]
        },
        {
          "output_type": "stream",
          "name": "stderr",
          "text": [
            "100%|██████████| 64/64 [00:53<00:00,  1.20it/s]\n"
          ]
        },
        {
          "output_type": "stream",
          "name": "stdout",
          "text": [
            "Training Phase: NLL_Loss: 0.33678, MMD_Loss: 0.03905\n"
          ]
        },
        {
          "output_type": "stream",
          "name": "stderr",
          "text": [
            "100%|██████████| 12/12 [00:06<00:00,  1.78it/s]\n"
          ]
        },
        {
          "output_type": "stream",
          "name": "stdout",
          "text": [
            "Validation Phase: NLL_Loss: 0.27657, MMD_Loss: 0.06550; Acc: 0.99583; Corrects: 239 of 240\n",
            "\n",
            "Epoch 46/59\n",
            "----------\n"
          ]
        },
        {
          "output_type": "stream",
          "name": "stderr",
          "text": [
            "100%|██████████| 64/64 [00:53<00:00,  1.20it/s]\n"
          ]
        },
        {
          "output_type": "stream",
          "name": "stdout",
          "text": [
            "Training Phase: NLL_Loss: 0.33683, MMD_Loss: 0.03726\n"
          ]
        },
        {
          "output_type": "stream",
          "name": "stderr",
          "text": [
            "100%|██████████| 12/12 [00:06<00:00,  1.77it/s]\n"
          ]
        },
        {
          "output_type": "stream",
          "name": "stdout",
          "text": [
            "Validation Phase: NLL_Loss: 0.27527, MMD_Loss: 0.05289; Acc: 0.99167; Corrects: 238 of 240\n",
            "\n",
            "Epoch 47/59\n",
            "----------\n"
          ]
        },
        {
          "output_type": "stream",
          "name": "stderr",
          "text": [
            "100%|██████████| 64/64 [00:53<00:00,  1.20it/s]\n"
          ]
        },
        {
          "output_type": "stream",
          "name": "stdout",
          "text": [
            "Training Phase: NLL_Loss: 0.33739, MMD_Loss: 0.03291\n"
          ]
        },
        {
          "output_type": "stream",
          "name": "stderr",
          "text": [
            "100%|██████████| 12/12 [00:06<00:00,  1.75it/s]\n"
          ]
        },
        {
          "output_type": "stream",
          "name": "stdout",
          "text": [
            "Validation Phase: NLL_Loss: 0.27528, MMD_Loss: 0.06392; Acc: 0.99583; Corrects: 239 of 240\n",
            "\n",
            "Epoch 48/59\n",
            "----------\n"
          ]
        },
        {
          "output_type": "stream",
          "name": "stderr",
          "text": [
            "100%|██████████| 64/64 [00:52<00:00,  1.21it/s]\n"
          ]
        },
        {
          "output_type": "stream",
          "name": "stdout",
          "text": [
            "Training Phase: NLL_Loss: 0.33840, MMD_Loss: 0.04312\n"
          ]
        },
        {
          "output_type": "stream",
          "name": "stderr",
          "text": [
            "100%|██████████| 12/12 [00:06<00:00,  1.76it/s]\n"
          ]
        },
        {
          "output_type": "stream",
          "name": "stdout",
          "text": [
            "Validation Phase: NLL_Loss: 0.27529, MMD_Loss: 0.05135; Acc: 0.99167; Corrects: 238 of 240\n",
            "\n",
            "Epoch 49/59\n",
            "----------\n"
          ]
        },
        {
          "output_type": "stream",
          "name": "stderr",
          "text": [
            "100%|██████████| 64/64 [00:53<00:00,  1.20it/s]\n"
          ]
        },
        {
          "output_type": "stream",
          "name": "stdout",
          "text": [
            "Training Phase: NLL_Loss: 0.33676, MMD_Loss: 0.03562\n"
          ]
        },
        {
          "output_type": "stream",
          "name": "stderr",
          "text": [
            "100%|██████████| 12/12 [00:06<00:00,  1.77it/s]\n"
          ]
        },
        {
          "output_type": "stream",
          "name": "stdout",
          "text": [
            "Validation Phase: NLL_Loss: 0.27494, MMD_Loss: 0.08562; Acc: 0.99167; Corrects: 238 of 240\n",
            "\n",
            "Saving best weights found so far... Done!\n",
            "\n",
            "Epoch 50/59\n",
            "----------\n"
          ]
        },
        {
          "output_type": "stream",
          "name": "stderr",
          "text": [
            "100%|██████████| 64/64 [00:53<00:00,  1.20it/s]\n"
          ]
        },
        {
          "output_type": "stream",
          "name": "stdout",
          "text": [
            "Training Phase: NLL_Loss: 0.33708, MMD_Loss: 0.03708\n"
          ]
        },
        {
          "output_type": "stream",
          "name": "stderr",
          "text": [
            "100%|██████████| 12/12 [00:06<00:00,  1.75it/s]\n"
          ]
        },
        {
          "output_type": "stream",
          "name": "stdout",
          "text": [
            "Validation Phase: NLL_Loss: 0.27510, MMD_Loss: 0.04546; Acc: 0.99167; Corrects: 238 of 240\n",
            "\n",
            "Epoch 51/59\n",
            "----------\n"
          ]
        },
        {
          "output_type": "stream",
          "name": "stderr",
          "text": [
            "100%|██████████| 64/64 [00:53<00:00,  1.19it/s]\n"
          ]
        },
        {
          "output_type": "stream",
          "name": "stdout",
          "text": [
            "Training Phase: NLL_Loss: 0.33610, MMD_Loss: 0.03563\n"
          ]
        },
        {
          "output_type": "stream",
          "name": "stderr",
          "text": [
            "100%|██████████| 12/12 [00:06<00:00,  1.75it/s]\n"
          ]
        },
        {
          "output_type": "stream",
          "name": "stdout",
          "text": [
            "Validation Phase: NLL_Loss: 0.27445, MMD_Loss: 0.07464; Acc: 0.98333; Corrects: 236 of 240\n",
            "\n",
            "Epoch 52/59\n",
            "----------\n"
          ]
        },
        {
          "output_type": "stream",
          "name": "stderr",
          "text": [
            "100%|██████████| 64/64 [00:53<00:00,  1.19it/s]\n"
          ]
        },
        {
          "output_type": "stream",
          "name": "stdout",
          "text": [
            "Training Phase: NLL_Loss: 0.33581, MMD_Loss: 0.04037\n"
          ]
        },
        {
          "output_type": "stream",
          "name": "stderr",
          "text": [
            "100%|██████████| 12/12 [00:06<00:00,  1.75it/s]\n"
          ]
        },
        {
          "output_type": "stream",
          "name": "stdout",
          "text": [
            "Validation Phase: NLL_Loss: 0.27465, MMD_Loss: 0.05984; Acc: 0.99167; Corrects: 238 of 240\n",
            "\n",
            "Epoch 53/59\n",
            "----------\n"
          ]
        },
        {
          "output_type": "stream",
          "name": "stderr",
          "text": [
            "100%|██████████| 64/64 [00:53<00:00,  1.19it/s]\n"
          ]
        },
        {
          "output_type": "stream",
          "name": "stdout",
          "text": [
            "Training Phase: NLL_Loss: 0.33656, MMD_Loss: 0.04509\n"
          ]
        },
        {
          "output_type": "stream",
          "name": "stderr",
          "text": [
            "100%|██████████| 12/12 [00:06<00:00,  1.76it/s]\n"
          ]
        },
        {
          "output_type": "stream",
          "name": "stdout",
          "text": [
            "Validation Phase: NLL_Loss: 0.27475, MMD_Loss: 0.06100; Acc: 0.99167; Corrects: 238 of 240\n",
            "\n",
            "Epoch 54/59\n",
            "----------\n"
          ]
        },
        {
          "output_type": "stream",
          "name": "stderr",
          "text": [
            "100%|██████████| 64/64 [00:53<00:00,  1.20it/s]\n"
          ]
        },
        {
          "output_type": "stream",
          "name": "stdout",
          "text": [
            "Training Phase: NLL_Loss: 0.33579, MMD_Loss: 0.04269\n"
          ]
        },
        {
          "output_type": "stream",
          "name": "stderr",
          "text": [
            "100%|██████████| 12/12 [00:06<00:00,  1.75it/s]\n"
          ]
        },
        {
          "output_type": "stream",
          "name": "stdout",
          "text": [
            "Validation Phase: NLL_Loss: 0.27456, MMD_Loss: 0.06406; Acc: 0.98750; Corrects: 237 of 240\n",
            "\n",
            "Epoch 55/59\n",
            "----------\n"
          ]
        },
        {
          "output_type": "stream",
          "name": "stderr",
          "text": [
            "100%|██████████| 64/64 [00:53<00:00,  1.19it/s]\n"
          ]
        },
        {
          "output_type": "stream",
          "name": "stdout",
          "text": [
            "Training Phase: NLL_Loss: 0.33520, MMD_Loss: 0.03650\n"
          ]
        },
        {
          "output_type": "stream",
          "name": "stderr",
          "text": [
            "100%|██████████| 12/12 [00:06<00:00,  1.77it/s]\n"
          ]
        },
        {
          "output_type": "stream",
          "name": "stdout",
          "text": [
            "Validation Phase: NLL_Loss: 0.27531, MMD_Loss: 0.07458; Acc: 0.98750; Corrects: 237 of 240\n",
            "\n",
            "Epoch 56/59\n",
            "----------\n"
          ]
        },
        {
          "output_type": "stream",
          "name": "stderr",
          "text": [
            "100%|██████████| 64/64 [00:53<00:00,  1.19it/s]\n"
          ]
        },
        {
          "output_type": "stream",
          "name": "stdout",
          "text": [
            "Training Phase: NLL_Loss: 0.33559, MMD_Loss: 0.03981\n"
          ]
        },
        {
          "output_type": "stream",
          "name": "stderr",
          "text": [
            "100%|██████████| 12/12 [00:06<00:00,  1.74it/s]\n"
          ]
        },
        {
          "output_type": "stream",
          "name": "stdout",
          "text": [
            "Validation Phase: NLL_Loss: 0.27392, MMD_Loss: 0.04744; Acc: 0.99167; Corrects: 238 of 240\n",
            "\n",
            "Epoch 57/59\n",
            "----------\n"
          ]
        },
        {
          "output_type": "stream",
          "name": "stderr",
          "text": [
            "100%|██████████| 64/64 [00:54<00:00,  1.18it/s]\n"
          ]
        },
        {
          "output_type": "stream",
          "name": "stdout",
          "text": [
            "Training Phase: NLL_Loss: 0.33498, MMD_Loss: 0.03594\n"
          ]
        },
        {
          "output_type": "stream",
          "name": "stderr",
          "text": [
            "100%|██████████| 12/12 [00:06<00:00,  1.75it/s]\n"
          ]
        },
        {
          "output_type": "stream",
          "name": "stdout",
          "text": [
            "Validation Phase: NLL_Loss: 0.27359, MMD_Loss: 0.04750; Acc: 0.98750; Corrects: 237 of 240\n",
            "\n",
            "Epoch 58/59\n",
            "----------\n"
          ]
        },
        {
          "output_type": "stream",
          "name": "stderr",
          "text": [
            "100%|██████████| 64/64 [00:53<00:00,  1.19it/s]\n"
          ]
        },
        {
          "output_type": "stream",
          "name": "stdout",
          "text": [
            "Training Phase: NLL_Loss: 0.33524, MMD_Loss: 0.03342\n"
          ]
        },
        {
          "output_type": "stream",
          "name": "stderr",
          "text": [
            "100%|██████████| 12/12 [00:06<00:00,  1.74it/s]\n"
          ]
        },
        {
          "output_type": "stream",
          "name": "stdout",
          "text": [
            "Validation Phase: NLL_Loss: 0.27328, MMD_Loss: 0.06170; Acc: 0.98750; Corrects: 237 of 240\n",
            "\n",
            "Epoch 59/59\n",
            "----------\n"
          ]
        },
        {
          "output_type": "stream",
          "name": "stderr",
          "text": [
            "100%|██████████| 64/64 [00:53<00:00,  1.19it/s]\n"
          ]
        },
        {
          "output_type": "stream",
          "name": "stdout",
          "text": [
            "Training Phase: NLL_Loss: 0.33517, MMD_Loss: 0.03466\n"
          ]
        },
        {
          "output_type": "stream",
          "name": "stderr",
          "text": [
            "100%|██████████| 12/12 [00:06<00:00,  1.74it/s]\n"
          ]
        },
        {
          "output_type": "stream",
          "name": "stdout",
          "text": [
            "Validation Phase: NLL_Loss: 0.27564, MMD_Loss: 0.04717; Acc: 0.98750; Corrects: 237 of 240\n",
            "\n",
            "Saving best weights found so far... Done!\n",
            "\n",
            "\n",
            "At Epoch 45: Best val Acc: 0.995833\n"
          ]
        }
      ]
    },
    {
      "cell_type": "markdown",
      "metadata": {
        "id": "n-5ERdLNvPeh"
      },
      "source": [
        "# Load and Evaluate"
      ]
    },
    {
      "cell_type": "markdown",
      "metadata": {
        "id": "9e4p3bUo38Nu"
      },
      "source": [
        "**NOTE:** Run all cells in 'Build InfoVAE Model' section before attempting load."
      ]
    },
    {
      "cell_type": "code",
      "metadata": {
        "id": "-SMP3-AlwQCU",
        "colab": {
          "base_uri": "https://localhost:8080/"
        },
        "outputId": "fcc24606-80d6-4b3c-988a-fc82e781a78b"
      },
      "source": [
        "# Load model\n",
        "model = Model(3)\n",
        "checkpoint = torch.load('/content/drive/MyDrive/valve_wav/VAE_Models/vae_128_valve_e60_a1b1p5.pt') #, map_location=torch.device('cpu'))\n",
        "model.load_state_dict(checkpoint['model_state_dict'])\n",
        "#model = torch.load('/content/drive/MyDrive/Pump_Data/Data_2secs/VAE_Models/vae_small_e60_a100.pth', map_location=torch.device('cpu'))"
      ],
      "execution_count": null,
      "outputs": [
        {
          "output_type": "execute_result",
          "data": {
            "text/plain": [
              "<All keys matched successfully>"
            ]
          },
          "metadata": {},
          "execution_count": 18
        }
      ]
    },
    {
      "cell_type": "code",
      "metadata": {
        "id": "lzhz5tHFvrqN"
      },
      "source": [
        "TEST_SET = 'test'\n",
        "TEST_FOLDER = 'test' if TEST_SET in ['test', 'val'] else 'train'"
      ],
      "execution_count": null,
      "outputs": []
    },
    {
      "cell_type": "markdown",
      "metadata": {
        "id": "Yp2Q405SwtbB"
      },
      "source": [
        "### Direct classification of 2 seconds (No voting)"
      ]
    },
    {
      "cell_type": "code",
      "metadata": {
        "id": "25wFbZxpxOKB"
      },
      "source": [
        "val_batch_size = 15"
      ],
      "execution_count": null,
      "outputs": []
    },
    {
      "cell_type": "code",
      "metadata": {
        "colab": {
          "base_uri": "https://localhost:8080/"
        },
        "id": "l2iAfhMjvfRJ",
        "outputId": "4440c3d9-dc6a-4d7c-943a-f9927fe38910"
      },
      "source": [
        "SAMPLE_RATE = 16000\n",
        "mel_spectrogram = torchaudio.transforms.MelSpectrogram(\n",
        "        sample_rate=SAMPLE_RATE,\n",
        "        n_fft=1024,\n",
        "        hop_length=1251,\n",
        "        n_mels=128\n",
        "    )\n",
        "\n",
        "ANNOTATIONS_FILE = \"/content/drive/MyDrive/valve_wav/valve_data/\"+TEST_SET+\".csv\"\n",
        "AUDIO_DIR = \"/content/drive/MyDrive/valve_wav/valve_data/\"+TEST_FOLDER\n",
        "data = SoundDatasetBuilder(ANNOTATIONS_FILE, AUDIO_DIR, mel_spectrogram, SAMPLE_RATE)\n",
        "\n",
        "data_loader = torch.utils.data.DataLoader(data,\n",
        "                                          batch_size=val_batch_size, \n",
        "                                          shuffle=False, num_workers=2,\n",
        "                                          pin_memory=True)\n",
        "\n",
        "\n",
        "print(f\"There are {len(data)} samples in the dataset.\")"
      ],
      "execution_count": null,
      "outputs": [
        {
          "output_type": "stream",
          "name": "stdout",
          "text": [
            "There are 719 samples in the dataset.\n"
          ]
        }
      ]
    },
    {
      "cell_type": "code",
      "metadata": {
        "id": "rMYkfDj_hO5h"
      },
      "source": [
        "def infer(model, data_loader):\n",
        "  z_list, label_list, pred_list = [], [], []\n",
        "  for batch_x, batch_y in tqdm(data_loader):\n",
        "    batch_x = Variable(batch_x, requires_grad=False).cuda()\n",
        "    z = model.encoder(batch_x)\n",
        "    preds = model.predict(batch_x)\n",
        "    z_list.append(z.cpu().data.numpy())\n",
        "    label_list.append(batch_y.numpy())\n",
        "    pred_list.append(preds.numpy())\n",
        "\n",
        "  z = np.concatenate(z_list, axis=0)\n",
        "  label = np.concatenate(label_list)\n",
        "  preds = np.concatenate(pred_list)\n",
        "  return z, label, preds"
      ],
      "execution_count": null,
      "outputs": []
    },
    {
      "cell_type": "code",
      "metadata": {
        "id": "LN2RBf1fILHX",
        "colab": {
          "base_uri": "https://localhost:8080/",
          "height": 559
        },
        "outputId": "f7cc507e-23a6-46f6-dd2c-5981802ca60b"
      },
      "source": [
        "# If latent z is 2-dimensional we visualize it by plotting latent z of different digits in different colors\n",
        "z_dim = model.latent_dim\n",
        "\n",
        "if z_dim == 2:\n",
        "  z, label, preds = infer(model, data_loader)\n",
        "  plt.scatter(z[:, 0], z[:, 1], c=label)\n",
        "  plt.show()\n",
        "\n",
        "\n",
        "if z_dim == 3:\n",
        "  z, label, preds = infer(model, data_loader)  \n",
        "  fig = px.scatter_3d(x=z[:, 0], y=z[:, 1], z=z[:, 2], color=label, size_max=2, opacity=0.2)\n",
        "  fig.show()"
      ],
      "execution_count": null,
      "outputs": [
        {
          "output_type": "stream",
          "name": "stderr",
          "text": [
            "100%|██████████| 48/48 [02:33<00:00,  3.20s/it]\n"
          ]
        },
        {
          "output_type": "display_data",
          "data": {
            "text/html": [
              "<html>\n",
              "<head><meta charset=\"utf-8\" /></head>\n",
              "<body>\n",
              "    <div>\n",
              "            <script src=\"https://cdnjs.cloudflare.com/ajax/libs/mathjax/2.7.5/MathJax.js?config=TeX-AMS-MML_SVG\"></script><script type=\"text/javascript\">if (window.MathJax) {MathJax.Hub.Config({SVG: {font: \"STIX-Web\"}});}</script>\n",
              "                <script type=\"text/javascript\">window.PlotlyConfig = {MathJaxConfig: 'local'};</script>\n",
              "        <script src=\"https://cdn.plot.ly/plotly-latest.min.js\"></script>    \n",
              "            <div id=\"0e4abca2-c1cf-429d-b701-f9dcdf3cdd4f\" class=\"plotly-graph-div\" style=\"height:525px; width:100%;\"></div>\n",
              "            <script type=\"text/javascript\">\n",
              "                \n",
              "                    window.PLOTLYENV=window.PLOTLYENV || {};\n",
              "                    \n",
              "                if (document.getElementById(\"0e4abca2-c1cf-429d-b701-f9dcdf3cdd4f\")) {\n",
              "                    Plotly.newPlot(\n",
              "                        '0e4abca2-c1cf-429d-b701-f9dcdf3cdd4f',\n",
              "                        [{\"hoverlabel\": {\"namelength\": 0}, \"hovertemplate\": \"x=%{x}<br>y=%{y}<br>z=%{z}<br>color=%{marker.color}\", \"legendgroup\": \"\", \"marker\": {\"color\": [0, 0, 0, 0, 0, 0, 0, 0, 0, 0, 0, 0, 0, 0, 0, 0, 0, 0, 0, 0, 0, 0, 0, 0, 0, 0, 0, 0, 0, 0, 0, 0, 0, 0, 0, 0, 0, 0, 0, 0, 0, 0, 0, 0, 0, 0, 0, 0, 0, 0, 0, 0, 0, 0, 0, 0, 0, 0, 0, 0, 0, 0, 0, 0, 0, 0, 0, 0, 0, 0, 0, 0, 0, 0, 0, 0, 0, 0, 0, 0, 0, 0, 0, 0, 0, 0, 0, 0, 0, 0, 0, 0, 0, 0, 0, 0, 0, 0, 0, 0, 0, 0, 0, 0, 0, 0, 0, 0, 0, 0, 0, 0, 0, 0, 0, 0, 0, 0, 0, 0, 0, 0, 0, 0, 0, 0, 0, 0, 0, 0, 0, 0, 0, 0, 0, 0, 0, 0, 0, 0, 0, 0, 0, 0, 0, 0, 0, 0, 0, 0, 0, 0, 0, 0, 0, 0, 0, 0, 0, 0, 0, 0, 0, 0, 0, 0, 0, 0, 0, 0, 0, 0, 0, 0, 0, 0, 0, 0, 0, 0, 0, 0, 0, 0, 0, 0, 0, 0, 0, 0, 0, 0, 0, 0, 0, 0, 0, 0, 0, 0, 0, 0, 0, 0, 0, 0, 0, 0, 0, 0, 0, 0, 0, 0, 0, 0, 0, 0, 0, 0, 0, 0, 0, 0, 0, 0, 0, 0, 0, 0, 0, 0, 0, 0, 0, 0, 0, 0, 0, 0, 0, 0, 0, 0, 0, 0, 0, 0, 0, 0, 0, 0, 0, 0, 0, 0, 0, 0, 0, 0, 0, 0, 0, 0, 0, 0, 0, 0, 0, 0, 0, 0, 0, 0, 0, 0, 0, 0, 0, 0, 0, 0, 0, 0, 0, 0, 0, 0, 0, 0, 0, 0, 0, 0, 0, 0, 0, 0, 0, 0, 0, 0, 0, 0, 0, 0, 0, 0, 0, 0, 0, 0, 0, 0, 0, 0, 0, 0, 0, 0, 0, 0, 0, 0, 0, 0, 0, 0, 0, 0, 0, 0, 0, 0, 0, 0, 0, 0, 0, 0, 0, 0, 0, 0, 0, 0, 0, 0, 0, 0, 0, 0, 0, 0, 0, 0, 0, 0, 0, 0, 1, 1, 1, 1, 1, 1, 1, 1, 1, 1, 1, 1, 1, 1, 1, 1, 1, 1, 1, 1, 1, 1, 1, 1, 1, 1, 1, 1, 1, 1, 1, 1, 1, 1, 1, 1, 1, 1, 1, 1, 1, 1, 1, 1, 1, 1, 1, 1, 1, 1, 1, 1, 1, 1, 1, 1, 1, 1, 1, 1, 1, 1, 1, 1, 1, 1, 1, 1, 1, 1, 1, 1, 1, 1, 1, 1, 1, 1, 1, 1, 1, 1, 1, 1, 1, 1, 1, 1, 1, 1, 1, 1, 1, 1, 1, 1, 1, 1, 1, 1, 1, 1, 1, 1, 1, 1, 1, 1, 1, 1, 1, 1, 1, 1, 1, 1, 1, 1, 1, 1, 1, 1, 1, 1, 1, 1, 1, 1, 1, 1, 1, 1, 1, 1, 1, 1, 1, 1, 1, 1, 1, 1, 1, 1, 1, 1, 1, 1, 1, 1, 1, 1, 1, 1, 1, 1, 1, 1, 1, 1, 1, 1, 1, 1, 1, 1, 1, 1, 1, 1, 1, 1, 1, 1, 1, 1, 1, 1, 1, 1, 1, 1, 1, 1, 1, 1, 1, 1, 1, 1, 1, 1, 1, 1, 1, 1, 1, 1, 1, 1, 1, 1, 1, 1, 1, 1, 1, 1, 1, 1, 1, 1, 1, 1, 1, 1, 1, 1, 1, 1, 1, 1, 1, 1, 1, 1, 1, 1, 1, 1, 1, 1, 1, 1, 1, 1, 1, 1, 1, 1, 1, 1, 1, 1, 1, 1, 1, 1, 1, 1, 1, 1, 1, 1, 1, 1, 1, 1, 1, 1, 1, 1, 1, 1, 1, 1, 1, 1, 1, 1, 1, 1, 1, 1, 1, 1, 1, 1, 1, 1, 1, 1, 1, 1, 1, 1, 1, 1, 1, 1, 1, 1, 1, 1, 1, 1, 1, 1, 1, 1, 1, 1, 1, 1, 1, 1, 1, 1, 1, 1, 1, 1, 1, 1, 1, 1, 1, 1, 1, 1, 1, 1, 1, 1, 1, 1, 1, 1, 1, 1, 1, 1, 1, 1, 1, 1, 1, 1, 1, 1, 1, 1, 1, 1, 1, 1, 1, 1, 1, 1, 1, 1, 1, 1, 1, 1, 1, 1, 1], \"coloraxis\": \"coloraxis\", \"opacity\": 0.2, \"symbol\": \"circle\"}, \"mode\": \"markers\", \"name\": \"\", \"scene\": \"scene\", \"showlegend\": false, \"type\": \"scatter3d\", \"x\": [-1.1135375499725342, -1.130990743637085, -1.1434226036071777, -0.8609768152236938, -1.0737171173095703, -1.0352424383163452, -0.9964450001716614, -1.0303869247436523, -1.1618837118148804, -1.0252262353897095, -1.0474770069122314, -1.1875652074813843, -0.8125826716423035, -1.298571228981018, -0.8203040957450867, -1.0190948247909546, -1.0326707363128662, -1.1790730953216553, -1.036364197731018, -1.0831019878387451, -0.7906426787376404, -0.9756886959075928, -1.0744081735610962, -0.9607707858085632, -1.2261000871658325, -1.0491163730621338, -1.263252854347229, -0.8188881874084473, -1.225324273109436, -0.8788435459136963, -0.9640148282051086, -0.9309631586074829, -1.2056106328964233, -1.0228079557418823, -1.0935521125793457, -1.0590693950653076, -1.0118718147277832, -0.6990067958831787, -0.9662338495254517, -0.9488903284072876, -0.8541802763938904, -1.339199185371399, -1.0279852151870728, -0.9645668864250183, -0.8431169986724854, -0.8204051852226257, -0.9055002331733704, -0.8642629981040955, -0.9616259336471558, -1.1189451217651367, -1.0040547847747803, -1.043886423110962, -1.1157920360565186, -0.9827021360397339, -0.7890576720237732, -0.9921141266822815, -1.2691503763198853, -0.7406732439994812, -0.6997559070587158, -0.971286952495575, -1.05685555934906, -0.9986802935600281, -1.2265098094940186, -1.211421251296997, -0.8249559998512268, -0.8442475199699402, -0.6737847328186035, -1.0420899391174316, -0.8849193453788757, -1.2616307735443115, -0.6809675097465515, -1.174516201019287, -0.8136464953422546, -0.9893788695335388, -1.207465410232544, -0.9201549887657166, -1.0731760263442993, -0.9713981747627258, -0.9433385729789734, -1.000512719154358, -1.128334879875183, -0.9853493571281433, -0.9501298666000366, -0.9347292184829712, -1.110438585281372, -1.0000747442245483, -1.1038718223571777, -1.1360950469970703, -1.263253092765808, -1.1794724464416504, -0.9688905477523804, -0.5078697204589844, -0.9155573844909668, -1.2239432334899902, -0.7867538332939148, -1.3885754346847534, -1.2446902990341187, -0.6997734904289246, -1.1468876600265503, 0.1861829161643982, 0.6356408596038818, -1.0514315366744995, -0.7619521021842957, 0.45080292224884033, -0.6096131205558777, -1.3300604820251465, -0.8695704936981201, -1.1997497081756592, -1.3159114122390747, -1.0297880172729492, -0.14007912576198578, -1.3614070415496826, -0.9458764791488647, -0.9470672607421875, -1.2776538133621216, -0.9186217784881592, -1.6016231775283813, -1.2662079334259033, -1.2585437297821045, -1.1312968730926514, -0.3021160960197449, -1.0622155666351318, -1.4573405981063843, -2.0866382122039795, -1.5357040166854858, -1.2914276123046875, -1.3570928573608398, -0.8007076382637024, -0.9270879626274109, -1.5315380096435547, -1.1173670291900635, -1.007261037826538, -0.8581351637840271, -0.7242764234542847, -1.6248362064361572, -0.966249942779541, -0.9258620738983154, -1.1820906400680542, -1.0945093631744385, -1.0641924142837524, -1.365106225013733, -1.2468774318695068, -1.2683247327804565, -1.145808458328247, -1.5321314334869385, -1.1470493078231812, -1.3541467189788818, -0.9847651720046997, -1.0959686040878296, -0.9154197573661804, -1.363598108291626, -1.240544319152832, -1.3799666166305542, -1.0273762941360474, -1.2693970203399658, -0.9659749269485474, -1.5338282585144043, -0.944387674331665, -1.355950951576233, -1.144325852394104, -1.8311764001846313, -1.3949116468429565, -1.3270454406738281, -1.277180790901184, -1.3519213199615479, -1.1357563734054565, -1.5596057176589966, -1.6784230470657349, -1.072126030921936, -1.7525203227996826, -1.433528184890747, -1.4177781343460083, -1.2884001731872559, -1.2453720569610596, -0.8646822571754456, -1.1430681943893433, -1.583445429801941, -1.432163953781128, -0.8489857912063599, -1.2120758295059204, -0.2314089983701706, -0.4528154134750366, -1.1595076322555542, -0.6967533230781555, -1.2107951641082764, -0.8460026383399963, -0.4630453586578369, -1.1865489482879639, -0.8065129518508911, -0.4279916286468506, -1.52593994140625, -1.3198357820510864, -0.9911926984786987, -0.942832350730896, -1.3630611896514893, -1.3779191970825195, -1.3695623874664307, -1.1091753244400024, -1.275313377380371, -0.3644281327724457, -1.1108356714248657, -1.252834439277649, -1.1367076635360718, -1.1951738595962524, -1.343648910522461, -1.160967230796814, -1.3734272718429565, -1.42489492893219, -1.4568095207214355, -1.0690360069274902, -1.3081499338150024, -0.06010359525680542, -0.049576736986637115, -2.2740142345428467, 0.24997597932815552, 0.17523755133152008, -1.4102736711502075, -0.4579578638076782, -0.030112165957689285, -1.642407774925232, -1.1311612129211426, -0.9889311790466309, -0.25452855229377747, -2.1874635219573975, -1.777977705001831, -1.0782049894332886, -1.9255897998809814, -2.123664379119873, -1.2411682605743408, -1.2757859230041504, -0.6180211305618286, -1.9065158367156982, 1.0174508094787598, -1.9660440683364868, -0.06453051418066025, -2.141733169555664, -1.1476497650146484, -0.9379139542579651, -0.9772199988365173, -0.9989685416221619, -0.9873557090759277, -0.9256278872489929, -0.8580254316329956, -1.224442958831787, -1.0686603784561157, -0.9944513440132141, -0.9072951078414917, -1.0102648735046387, -0.9851822853088379, -0.9822662472724915, -0.9415967464447021, -0.838582456111908, -1.2706494331359863, -1.0220502614974976, -1.0019270181655884, -1.298038125038147, -0.9951685070991516, -1.112794280052185, -1.15744149684906, -0.8893622756004333, -1.0696483850479126, -0.9283950328826904, -0.8375259637832642, -1.183864712715149, -0.8115948438644409, -0.8752797842025757, -1.2162704467773438, -0.8944754004478455, -0.8329612612724304, -0.7931026816368103, -0.8322659134864807, -0.9620639681816101, -0.8466150164604187, -0.9735344648361206, -1.1154406070709229, -1.0748388767242432, -0.9816315174102783, -0.6761389970779419, -0.9574469327926636, -0.8638680577278137, -0.8536996245384216, -0.8004984259605408, -0.8062435984611511, -0.8180485963821411, -1.101080298423767, -1.0487321615219116, -0.9203900694847107, -0.8692589998245239, -0.8764907717704773, -0.7228461503982544, -1.01480233669281, -1.2059389352798462, -0.9190483689308167, -1.1425608396530151, -0.8853590488433838, -1.0171377658843994, -1.0784868001937866, -0.8987607359886169, -0.6252942681312561, -0.7932726144790649, -1.0858147144317627, -1.079865574836731, -0.9663906097412109, -1.3233721256256104, -0.9655482172966003, -0.9166275262832642, -1.1490607261657715, -0.7984407544136047, -0.9758285880088806, -1.0201188325881958, -1.0963671207427979, -1.0260424613952637, -0.9649348258972168, -1.0217097997665405, -1.0468188524246216, -0.9141782522201538, -0.9328968524932861, -1.0326714515686035, -0.9066024422645569, -1.3332289457321167, -0.9214587807655334, -1.189822793006897, -0.9677903056144714, -1.1497480869293213, -1.1650573015213013, -0.9577422142028809, -1.211467981338501, -1.0507524013519287, -1.4987257719039917, -1.0388203859329224, -1.255806565284729, -0.5154992938041687, -1.0705043077468872, -0.9171081781387329, -1.2971293926239014, -0.9538379311561584, 0.3349217474460602, -0.3811118006706238, -1.2695039510726929, -1.4067668914794922, -1.2740010023117065, -0.6174866557121277, 0.43865421414375305, -1.1089707612991333, -1.0183496475219727, -1.3279006481170654, -1.2040377855300903, -0.8002889156341553, -0.812929093837738, 0.05109021067619324, -1.0501917600631714, -1.0949355363845825, -0.6594879627227783, -1.4463016986846924, 0.16474539041519165, -0.9949553608894348, -0.5569143295288086, -0.4284711182117462, -1.1111685037612915, -0.6898143291473389, 0.8834481835365295, 1.027179479598999, 0.32511574029922485, 0.9945439696311951, 1.0885224342346191, 1.1347099542617798, 0.94466632604599, 1.1444050073623657, 0.22364723682403564, 0.955078661441803, 0.9829583168029785, 1.1671323776245117, 0.9253084063529968, 0.27305904030799866, 1.1074731349945068, 0.6554409861564636, 1.1529732942581177, 0.9945233464241028, 1.041607141494751, 0.9624171853065491, 1.0594671964645386, 1.093443751335144, 0.9639458656311035, 0.9270294308662415, 0.3873911201953888, 0.973392903804779, 0.9669015407562256, 1.0505759716033936, -0.0328616127371788, 1.033095359802246, 1.0105626583099365, 1.3248248100280762, 1.0468405485153198, 1.0692836046218872, 1.0848509073257446, 1.1634454727172852, 1.0302417278289795, 1.1699552536010742, 1.0007392168045044, 1.0941040515899658, 1.4136152267456055, 1.5301814079284668, 1.1103713512420654, 0.6276634931564331, 1.1930387020111084, 1.3827375173568726, 1.456674575805664, 1.075238823890686, 0.9761753678321838, 0.8888865113258362, 1.1974937915802002, 1.215114951133728, 1.3697961568832397, 0.8458524942398071, 0.72371506690979, 1.4652763605117798, 1.3351975679397583, 1.0277701616287231, 1.1420313119888306, 1.1260520219802856, 0.9123293161392212, 0.6695331335067749, 1.2257933616638184, 0.6342718601226807, 0.7457569241523743, 0.9196204543113708, 1.158490538597107, 0.819504976272583, 1.132716417312622, 0.9863241314888, 0.6941495537757874, 1.1019489765167236, 0.9103251099586487, 1.252897024154663, 0.9125366806983948, 1.0218844413757324, 0.8801043033599854, 0.8718783259391785, 0.7743517756462097, 0.7403542995452881, 0.7826963067054749, 1.1651173830032349, 0.4383839964866638, 0.9550949335098267, 0.9483842849731445, 0.9459434151649475, 1.084725022315979, 1.0816153287887573, 1.1320807933807373, 1.0778765678405762, 0.9584875702857971, 1.0442781448364258, 0.1417473703622818, 1.1380475759506226, 1.0897669792175293, 0.8229625821113586, 0.9409226775169373, 0.7996331453323364, 0.998622477054596, 0.8186432719230652, 1.0524044036865234, 0.9660823345184326, 1.0671684741973877, 0.13042378425598145, 0.6587032079696655, 0.9485213756561279, 1.020213007926941, 1.1241097450256348, 0.72226881980896, 0.8147647380828857, 1.0179407596588135, 1.1127370595932007, 1.035605549812317, 1.0995419025421143, 0.9875743389129639, 1.063975214958191, 1.0455843210220337, 0.7556401491165161, 0.8320870995521545, 0.7889881134033203, 1.0928326845169067, 0.834231972694397, 0.9305331110954285, 0.3480915129184723, 0.8788784742355347, 0.727618396282196, 0.8021761775016785, 0.6193143129348755, 0.24092216789722443, 0.7768046855926514, 0.7326398491859436, 0.9707103371620178, 0.9213592410087585, 0.2931287884712219, 0.94760662317276, 0.3906741738319397, 1.0300239324569702, 0.844747006893158, 0.5161333680152893, 0.8407831192016602, 1.0444371700286865, 0.622763991355896, 0.32422372698783875, -0.003062309930101037, 0.9870144724845886, 0.9330252408981323, 0.9461223483085632, -0.03319808840751648, -0.0625157430768013, 0.8104149699211121, 0.9409422874450684, -0.4361783266067505, 0.6450937986373901, 0.9100801348686218, 1.1238373517990112, 1.0425735712051392, 0.9649829268455505, 0.7897809147834778, 1.2308640480041504, 0.8749554753303528, 0.6275367736816406, 1.2254329919815063, 1.2434786558151245, 0.49926477670669556, 0.5903071165084839, 1.05927574634552, 0.8423861265182495, 0.9161994457244873, 0.9395105838775635, 0.9395651817321777, 0.8610036969184875, 0.23548384010791779, 0.4822262227535248, 0.7745707035064697, 0.9268887639045715, 1.0779646635055542, 0.868338942527771, 0.8972476720809937, 0.8355311751365662, 1.357054352760315, 1.195721983909607, 0.8835805654525757, 1.2602263689041138, 0.7518226504325867, 0.9413082003593445, 0.7554163336753845, 1.1409361362457275, 0.5185049772262573, 0.5948193669319153, 0.5135390162467957, 0.8860035538673401, 0.9011681079864502, 0.786933422088623, 0.9237680435180664, 0.6864371299743652, 0.7552576661109924, 0.5372737646102905, 0.7870872616767883, 0.923295795917511, 0.6752641201019287, 0.7465924620628357, 0.6477954387664795, 0.46803924441337585, 0.46646592020988464, 0.7764253616333008, 0.7533618211746216, 1.0587451457977295, 0.8998563289642334, 0.04579242318868637, 0.36303773522377014, 0.98768550157547, 0.9147313833236694, 0.934822678565979, -0.32961151003837585, 1.0033674240112305, 0.9730786681175232, 1.033214807510376, 0.7340810298919678, 0.7250533699989319, 0.2378072440624237, 1.0491712093353271, 1.0817971229553223, 1.0663957595825195, 0.8790751695632935, 1.1268815994262695, 1.0005006790161133, 0.1582864671945572, 1.1594841480255127, 0.2460443377494812, -0.7151676416397095, 0.9445587396621704, 0.9809004664421082, 0.7878954410552979, 0.4557293951511383, 0.587226927280426, 0.7087793350219727, 1.0258934497833252, 0.6615692973136902, 0.8909687399864197, 0.6466808319091797, 0.7309596538543701, 0.5719165205955505, 0.6859104037284851, 1.0080958604812622, 1.1474460363388062, 0.9927135705947876, 1.051281213760376, 1.1272435188293457, 1.13669753074646, 0.850666344165802, 0.9447095990180969, 0.8359464406967163, 0.400123655796051, 0.9066767692565918, 1.0566197633743286, 1.0609533786773682, 0.23707351088523865, 1.1161834001541138, 1.065170407295227, 1.1905407905578613, 1.126387596130371, 0.6413854956626892, 1.0282546281814575, 0.8932929635047913, 1.099916934967041, 0.3514786660671234, 1.2101612091064453, 0.9155912399291992, 1.0496129989624023, 1.1071979999542236, 0.9899610877037048, 0.9794260859489441, 1.525850534439087, 1.432547926902771, 1.0508993864059448, 1.0781776905059814, 0.6745554804801941, 0.950580358505249, 0.8520557880401611, 1.112024188041687, 1.0979065895080566, 1.2015048265457153, 1.010321021080017, 1.5362293720245361, 1.4343864917755127, 1.0674054622650146, 1.4604250192642212, 1.4779071807861328, 1.1381492614746094, 1.0666027069091797, 1.176809310913086, 1.0924259424209595, 1.1378424167633057, 1.066284418106079, 1.4595921039581299, 0.8179383873939514, 0.9681046009063721, 1.1529334783554077, 1.0589240789413452, 1.0785939693450928, 1.3998949527740479, 1.1089571714401245, 1.250966191291809, 1.1100956201553345, 0.7642270922660828, 1.114633321762085, 0.8324044942855835, 0.8567739725112915, 0.8742179870605469, 0.8132427930831909, 0.7428457140922546, 0.7565964460372925, 1.199723482131958, 1.1911566257476807, 1.0464396476745605, 1.0445373058319092, 1.2089834213256836, 0.9127762317657471, 1.0952069759368896, 0.9676345586776733, 0.9111703634262085, 0.2873823642730713, 0.7066332697868347, 1.1807894706726074, 0.9108150005340576, 0.9079228043556213, 1.2490867376327515, 1.0081290006637573, 1.2513374090194702, 1.1666438579559326, 0.9693512916564941, 1.0120220184326172, 0.9944471716880798, 1.1178429126739502, 0.38954129815101624, 1.0304118394851685, 0.8641207814216614, 0.9519284963607788, 0.5938895344734192, 1.1334960460662842, 1.1443066596984863, 0.7649809122085571, 1.020497441291809, 1.0241773128509521, 0.16946002840995789, 1.1040923595428467, 0.908805251121521, 0.8658205270767212, 1.1392022371292114, 0.8446268439292908, 0.8884634375572205, 1.2620103359222412, 0.8130115270614624, 0.8797163963317871, 0.8837624192237854, 0.7041935920715332, 0.22139796614646912, 1.0651792287826538, 0.921904444694519], \"y\": [-1.2185794115066528, -1.2054675817489624, -1.2394559383392334, -0.9375239014625549, -1.1654126644134521, -1.1534669399261475, -1.0277682542800903, -1.0091007947921753, -1.2740638256072998, -1.0483604669570923, -1.1559284925460815, -1.2429375648498535, -0.9763736724853516, -1.3237006664276123, -0.8689688444137573, -1.0087733268737793, -1.194092035293579, -1.2070478200912476, -1.067771553993225, -1.2282161712646484, -0.921535849571228, -1.016014575958252, -1.1513607501983643, -1.1612133979797363, -1.3085020780563354, -1.142174243927002, -1.3023265600204468, -0.8569678664207458, -1.2794936895370483, -0.9586294889450073, -0.9194259643554688, -0.998755156993866, -1.3755450248718262, -1.0953905582427979, -1.1065407991409302, -1.0766255855560303, -1.0050737857818604, -0.7479143142700195, -0.9034549593925476, -1.0185949802398682, -0.9187179207801819, -1.3654316663742065, -1.0756752490997314, -0.9795334935188293, -0.910393238067627, -0.8875788450241089, -0.9529386758804321, -0.8429739475250244, -1.0299891233444214, -1.126530408859253, -1.0912216901779175, -1.0235095024108887, -1.1888031959533691, -1.0439571142196655, -0.8602635264396667, -0.9771625399589539, -1.2864311933517456, -0.7297354936599731, -0.684240996837616, -0.9877738356590271, -1.0795592069625854, -1.0485546588897705, -1.1662712097167969, -1.2312512397766113, -0.8776729702949524, -0.8358043432235718, -0.7187924981117249, -1.128904938697815, -0.8887262344360352, -1.381674885749817, -0.7121097445487976, -1.1613982915878296, -0.8416505455970764, -1.0453455448150635, -1.2464898824691772, -0.8692032694816589, -1.107024073600769, -0.964931309223175, -0.9059644341468811, -1.0369328260421753, -1.1984161138534546, -1.0759129524230957, -0.9654390811920166, -0.9872907996177673, -1.09490168094635, -1.0035771131515503, -1.2053037881851196, -1.0939693450927734, -1.3093458414077759, -1.2133045196533203, -0.9236679673194885, -0.3690311312675476, -0.8828915953636169, -1.2343628406524658, -0.8157550096511841, -1.4585702419281006, -1.2938274145126343, -0.7501019239425659, -1.1626219749450684, 0.14791733026504517, 0.5448101162910461, -1.0458837747573853, -0.7831876277923584, 0.3632277846336365, -0.5554496049880981, -1.4315543174743652, -0.8305153846740723, -1.238448977470398, -1.4074658155441284, -1.0762516260147095, -0.19830593466758728, -1.4687801599502563, -0.9339927434921265, -1.0066344738006592, -1.3689266443252563, -0.8170444369316101, -0.4537191390991211, -1.0704017877578735, -1.0522314310073853, -0.9173501133918762, -0.10437518358230591, -0.8800657987594604, -1.1766101121902466, -0.7335325479507446, -1.3215396404266357, -1.088492512702942, -1.171308994293213, -0.8627458214759827, -0.5147150158882141, -0.9071941375732422, -0.32533639669418335, -0.8279083967208862, 0.12792274355888367, -0.13204632699489594, -1.0122661590576172, -1.055674433708191, -0.6495082378387451, -0.9746172428131104, -0.927716851234436, -0.7648582458496094, -1.177014946937561, -1.0365480184555054, -1.0523664951324463, -0.943137526512146, -1.2936370372772217, -0.9809874892234802, -1.1484506130218506, -1.079765796661377, -0.7245015501976013, -0.6911090016365051, -1.1194700002670288, -0.9992150664329529, -1.1741422414779663, -0.8471786379814148, -1.0392876863479614, -0.9482242465019226, -0.410453200340271, -0.649712085723877, -0.835815966129303, -0.9336767792701721, -0.33308279514312744, -1.2200424671173096, -1.0970611572265625, -0.7070536017417908, -1.1551436185836792, -0.9379872679710388, -0.7538243532180786, -1.482951283454895, -0.8483930230140686, -0.6036595702171326, -1.2058687210083008, -1.238020896911621, -1.192754864692688, -1.0004974603652954, -0.6255202889442444, -0.937108039855957, -0.251784086227417, -1.2302463054656982, -0.9449400901794434, -0.9996667504310608, 0.2701601982116699, -0.4217429459095001, -0.7684441208839417, 0.8184752464294434, -1.0381064414978027, -0.6022965908050537, 0.2569083571434021, -1.0164103507995605, -0.6033897995948792, -0.16921615600585938, -0.9521076679229736, -1.121391773223877, -0.45805659890174866, -0.7262044548988342, -0.9058011770248413, -1.1571322679519653, -1.1206073760986328, -0.8414225578308105, -1.0837727785110474, -0.43783581256866455, -0.8823938965797424, -0.7075303196907043, -0.885356605052948, -1.0464651584625244, -1.1724046468734741, -0.8712611794471741, -1.153830647468567, 0.03803443908691406, -1.1685718297958374, -0.8798984885215759, -1.0867363214492798, 0.18718622624874115, 0.19688232243061066, -1.8791241645812988, 0.4374518394470215, 0.43502703309059143, -1.2529479265213013, -0.18672333657741547, 0.5264267325401306, -1.4509278535842896, -0.924476146697998, -0.7949303388595581, -0.16670021414756775, -1.5879566669464111, -0.19927814602851868, -0.8209999203681946, -0.3228563070297241, -1.5523731708526611, -0.7162495255470276, -1.0426520109176636, -0.026763366535305977, -0.6401910781860352, 1.1319328546524048, -1.7665404081344604, 0.16312865912914276, -1.3553497791290283, -0.9338421821594238, -1.0638843774795532, -1.1283851861953735, -1.2050586938858032, -1.1280068159103394, -1.0571376085281372, -0.988629162311554, -1.3572335243225098, -1.181038737297058, -1.2470344305038452, -1.063799500465393, -1.2144153118133545, -1.1412043571472168, -1.098290205001831, -1.1195741891860962, -1.0049835443496704, -1.3762038946151733, -1.1843699216842651, -1.1045385599136353, -1.4295216798782349, -1.1232924461364746, -1.3038803339004517, -1.2726531028747559, -1.0530774593353271, -1.2571755647659302, -1.1288670301437378, -0.9736143350601196, -1.429713249206543, -0.9181680083274841, -1.0439727306365967, -1.3345259428024292, -1.0504825115203857, -0.9365664124488831, -0.8793027997016907, -0.9190850257873535, -1.0459132194519043, -0.945001482963562, -1.066508412361145, -1.2471940517425537, -1.2343389987945557, -1.0735905170440674, -0.7532610297203064, -1.0663560628890991, -0.9634767770767212, -0.9487029314041138, -0.8847013711929321, -0.8711612224578857, -0.9004250764846802, -1.252626895904541, -1.1800994873046875, -1.0085268020629883, -0.9577751159667969, -0.9608553647994995, -0.8299936056137085, -1.1229666471481323, -1.3876115083694458, -1.0744282007217407, -1.2461142539978027, -0.9823687672615051, -1.1119801998138428, -1.2061253786087036, -0.9932816624641418, -0.7391859889030457, -0.8775204420089722, -1.1859742403030396, -1.1790014505386353, -1.068252444267273, -1.1517549753189087, -1.0844221115112305, -0.9956032633781433, -1.2006001472473145, -0.8713034987449646, -1.1323635578155518, -1.1031036376953125, -1.1867419481277466, -1.1115213632583618, -1.0464239120483398, -1.0809173583984375, -1.1287298202514648, -1.04841148853302, -1.016982078552246, -1.1217719316482544, -1.0096863508224487, -1.4645817279815674, -1.0180368423461914, -1.281272292137146, -1.0460485219955444, -1.262345314025879, -1.2565226554870605, -1.0284173488616943, -1.3197489976882935, -1.1211246252059937, -1.6835670471191406, -1.1299611330032349, -1.362822413444519, -0.6302531957626343, -1.1862151622772217, -1.007384181022644, -1.4502043724060059, -1.0251190662384033, 0.27685782313346863, -0.4661807119846344, -1.3861294984817505, -1.5468939542770386, -1.4053908586502075, -0.6313050389289856, 0.29033756256103516, -1.1789302825927734, -1.0919333696365356, -1.4572993516921997, -1.2721549272537231, -0.8509141206741333, -0.8729908466339111, -0.0721483901143074, -1.0956262350082397, -1.1913269758224487, -0.7478196024894714, -1.6090959310531616, 0.03618966415524483, -1.0457111597061157, -0.6247602701187134, -0.5278816223144531, -1.2149192094802856, -0.7941478490829468, 0.8484404683113098, 0.9669350385665894, 0.38073834776878357, 0.9480922222137451, 0.9936566948890686, 1.0324050188064575, 0.9143552780151367, 1.0077675580978394, 0.16682493686676025, 0.9004068374633789, 0.8844000697135925, 1.0624254941940308, 0.828408420085907, 0.23928116261959076, 1.0018186569213867, 0.5357915163040161, 1.058448314666748, 0.904321551322937, 0.9792575836181641, 0.9183228611946106, 0.9662073850631714, 0.9912887215614319, 0.9292367696762085, 0.9095923900604248, 0.396411269903183, 0.8862860202789307, 0.8855845928192139, 0.9551713466644287, -0.12826722860336304, 1.0320935249328613, 1.0648808479309082, 1.1757513284683228, 1.0428590774536133, 1.0238689184188843, 1.0596365928649902, 1.041235089302063, 0.9828634262084961, 1.0689603090286255, 1.0034518241882324, 0.9262751340866089, 1.2999379634857178, 1.3569285869598389, 1.069693922996521, 0.4945962131023407, 1.060177206993103, 1.278052568435669, 1.3235318660736084, 1.0089086294174194, 0.8855825662612915, 0.8076674342155457, 1.1221858263015747, 1.2127187252044678, 1.1826426982879639, 0.7848266363143921, 0.5865943431854248, 1.3641847372055054, 1.272977590560913, 0.9607264995574951, 1.1362091302871704, 1.145419955253601, 0.8251737952232361, 0.5507639050483704, 1.157487154006958, 0.6508122086524963, 0.7702093720436096, 0.9397734999656677, 1.2284941673278809, 0.7993065714836121, 1.1055127382278442, 0.9445986747741699, 0.8368143439292908, 1.0306222438812256, 0.8353325128555298, 1.2069083452224731, 0.8902138471603394, 0.9064748883247375, 0.9793744683265686, 0.8167227506637573, 0.7200839519500732, 0.6149677634239197, 0.7652029395103455, 1.0593830347061157, 0.3501504361629486, 0.9419524073600769, 0.8970178961753845, 0.9253832697868347, 0.963935136795044, 1.1242321729660034, 1.0218523740768433, 1.1022931337356567, 0.9542887806892395, 1.0826166868209839, 0.060136180371046066, 1.077937126159668, 1.0087330341339111, 0.8067101240158081, 0.9769837856292725, 0.792208731174469, 0.9720165729522705, 0.748702347278595, 0.9913608431816101, 0.8529372215270996, 1.0553652048110962, 0.1300058364868164, 0.649749219417572, 0.9801326394081116, 0.9585934281349182, 1.0839273929595947, 0.6069169640541077, 0.7890473008155823, 0.9804134964942932, 1.050663948059082, 0.9332394599914551, 1.0097867250442505, 1.0241832733154297, 1.0603948831558228, 0.9879883527755737, 0.690096914768219, 0.8024516105651855, 0.7305505871772766, 1.0424268245697021, 0.771878719329834, 1.0249876976013184, 0.589882493019104, 1.086529016494751, 1.1333950757980347, 0.9226897358894348, 1.3647664785385132, 0.4511028528213501, 1.1319012641906738, 0.6029210686683655, 0.8780356645584106, 1.1591603755950928, 0.5605441331863403, 1.1129645109176636, 0.6103397607803345, 1.2749154567718506, 1.9459182024002075, 0.81532222032547, 1.1129100322723389, 1.2604800462722778, 0.7123386263847351, 0.21591325104236603, 0.4735235869884491, 1.1585720777511597, 1.1396936178207397, 1.1495674848556519, 1.3559850454330444, 0.12757009267807007, 1.0751293897628784, 1.1804437637329102, -0.18402652442455292, 0.746198832988739, 1.10662841796875, 1.3067610263824463, 1.252797245979309, 1.13666570186615, 1.0745598077774048, 1.4438765048980713, 1.0122480392456055, 1.1271631717681885, 1.3976404666900635, 1.4319298267364502, 1.7468186616897583, 0.857746422290802, 1.2266216278076172, 1.8469507694244385, 1.200789451599121, 1.156571865081787, 1.166641354560852, 1.030539870262146, 0.48028019070625305, 1.7901947498321533, 1.3467248678207397, 1.1098445653915405, 1.2614638805389404, 1.0201398134231567, 1.062199354171753, 2.12679123878479, 1.5276360511779785, 1.209114670753479, 0.9699349403381348, 1.3783228397369385, 2.3448050022125244, 1.0876566171646118, 1.0709214210510254, 1.3493400812149048, 0.7909294366836548, 1.7273417711257935, 1.4784865379333496, 1.2956665754318237, 1.1075148582458496, 0.9689080715179443, 1.1421071290969849, 0.9071345925331116, 1.1422884464263916, 1.758678913116455, 0.8350019454956055, 1.3347547054290771, 0.9236979484558105, 1.2759349346160889, 0.8456571698188782, 0.7060355544090271, 0.6917015314102173, 1.9507282972335815, 0.8135995864868164, 1.202797770500183, 1.147908329963684, 0.2920790910720825, 0.5477617979049683, 0.8749246001243591, 1.218385934829712, 1.1209226846694946, -0.0899151861667633, 1.2850170135498047, 1.19075608253479, 1.1516791582107544, 2.223518133163452, 0.9267125129699707, 1.7702444791793823, 1.1954541206359863, 1.2220460176467896, 1.319560170173645, 1.572837233543396, 1.3172966241836548, 0.8722308874130249, 0.39032813906669617, 1.1699925661087036, 1.7920204401016235, -0.492412269115448, 1.1724501848220825, 1.1788564920425415, 0.9866402745246887, 1.4312773942947388, 0.8834680914878845, 0.9844092130661011, 1.234793782234192, 1.0775147676467896, 1.0725421905517578, 1.5172653198242188, 0.964216947555542, 0.9307194948196411, 0.9416711330413818, 0.9022313952445984, 1.0155833959579468, 0.8873918056488037, 0.9258290529251099, 0.9713912010192871, 0.986545741558075, 0.7474901676177979, 0.8042982816696167, 0.6757820248603821, 0.2519034147262573, 0.7959681749343872, 0.9274911880493164, 0.9396383762359619, 0.08577559888362885, 0.9752361178398132, 0.9543421864509583, 1.0463708639144897, 1.0003602504730225, 0.49068543314933777, 0.8837262988090515, 0.7530928254127502, 0.9490391612052917, 0.20285844802856445, 1.036041498184204, 0.7976254820823669, 0.9325645565986633, 0.9849456548690796, 0.8810575604438782, 0.8511338233947754, 1.2683765888214111, 1.240821123123169, 0.8811438679695129, 0.9361602663993835, 0.5267048478126526, 0.860539972782135, 0.7448393702507019, 0.986431896686554, 0.9595967531204224, 1.0374257564544678, 0.8879751563072205, 1.290464162826538, 1.1903352737426758, 0.954124927520752, 1.2468432188034058, 1.2150332927703857, 0.9893918633460999, 0.9457055926322937, 0.9857581853866577, 1.0141971111297607, 0.9663024544715881, 0.948631227016449, 1.2402600049972534, 0.6427252888679504, 0.8723892569541931, 0.9949321150779724, 0.9135744571685791, 0.9368321299552917, 1.2082016468048096, 0.931769847869873, 1.1228219270706177, 0.9957988858222961, 0.6216784715652466, 0.9292570948600769, 0.7073202133178711, 0.7500656247138977, 0.7960585355758667, 0.7066375017166138, 0.6302136182785034, 0.6416233777999878, 1.1474981307983398, 1.0668973922729492, 1.0088444948196411, 0.9183114171028137, 1.076848030090332, 0.8026341795921326, 0.969361424446106, 0.894616425037384, 0.840580403804779, 0.16952396929264069, 0.5822970271110535, 1.0449261665344238, 0.7822336554527283, 0.7988255023956299, 1.1472960710525513, 0.9077617526054382, 1.1500756740570068, 1.0385674238204956, 0.8795279264450073, 0.8944915533065796, 0.9206022024154663, 1.0038264989852905, 0.27039211988449097, 0.8517323732376099, 0.7304736375808716, 0.861526608467102, 0.4791182577610016, 0.9963745474815369, 1.0343070030212402, 0.645851194858551, 0.9179123640060425, 0.9285107851028442, 0.052236948162317276, 0.9928316473960876, 0.8088403344154358, 0.7721824049949646, 1.0370872020721436, 0.8546466827392578, 0.8159106373786926, 1.1184896230697632, 0.7281522154808044, 0.780768632888794, 0.8112131357192993, 0.6107760071754456, 0.15067552030086517, 0.968873918056488, 0.6960879564285278], \"z\": [-1.1607213020324707, -1.1542168855667114, -1.1002436876296997, -0.8114581108093262, -1.0156391859054565, -0.9947448968887329, -0.9286035895347595, -0.9024786949157715, -1.1798045635223389, -0.9403092265129089, -0.9649444818496704, -1.2486027479171753, -1.1048552989959717, -1.1732102632522583, -0.7737300992012024, -0.8893950581550598, -1.1705089807510376, -1.1451051235198975, -0.9345656037330627, -1.2653754949569702, -0.9130759239196777, -1.0004215240478516, -1.0979130268096924, -1.2324275970458984, -1.1499912738800049, -1.0324450731277466, -1.1396409273147583, -0.7151851654052734, -1.204530954360962, -0.8348085284233093, -0.8482429385185242, -0.8490548133850098, -1.2513684034347534, -0.9902442097663879, -1.0273103713989258, -1.0440205335617065, -0.9653747081756592, -0.6720068454742432, -0.8371571898460388, -0.8678261637687683, -0.7918601632118225, -1.251852035522461, -0.9587103128433228, -0.8848336338996887, -0.7775902152061462, -0.7334039807319641, -0.8501498103141785, -0.8360726237297058, -0.9041891694068909, -1.0290719270706177, -1.0032213926315308, -0.9110855460166931, -1.0274088382720947, -0.8929428458213806, -0.7468222379684448, -0.868195652961731, -1.1388742923736572, -0.6846745014190674, -0.6030448079109192, -0.8597670197486877, -0.9434406757354736, -0.8941203951835632, -1.063173770904541, -1.0760835409164429, -0.7660611867904663, -0.722037136554718, -0.6879730224609375, -1.000537395477295, -0.8517404198646545, -1.2327513694763184, -0.6026864647865295, -1.0461130142211914, -0.7213740348815918, -0.8950475454330444, -1.0885322093963623, -0.8225716352462769, -0.9689114689826965, -0.8425963521003723, -0.8207978010177612, -0.8834406137466431, -1.0671041011810303, -0.9544145464897156, -0.8615261316299438, -0.8977805376052856, -0.9975218772888184, -0.9023385047912598, -1.073618769645691, -1.0281906127929688, -1.1831692457199097, -1.1237245798110962, -0.8556793928146362, -0.3273261785507202, -0.8445882201194763, -1.1270081996917725, -0.6926261782646179, -1.3223801851272583, -1.168061375617981, -0.620509684085846, -1.0265120267868042, 0.2931858003139496, 0.6685335636138916, -0.9825013875961304, -0.6486670970916748, 0.5147600769996643, -0.5215508937835693, -1.3095250129699707, -0.7569641470909119, -1.0869956016540527, -1.2685401439666748, -0.9507472515106201, -0.053900908678770065, -1.3144696950912476, -0.8377072811126709, -0.8848419785499573, -1.2959522008895874, -0.7488986253738403, -0.9938756227493286, -1.0399186611175537, -1.1547961235046387, -1.0092124938964844, -0.12230398505926132, -0.8870162963867188, -1.3304033279418945, -1.3426454067230225, -1.4543999433517456, -1.1056468486785889, -1.2388876676559448, -0.7685602307319641, -0.7356359958648682, -1.2151919603347778, -0.5779882073402405, -0.8784863352775574, -0.33093833923339844, -0.304031103849411, -1.3403249979019165, -0.9344073534011841, -0.6975805759429932, -0.9516329169273376, -0.9418964982032776, -0.8032039403915405, -1.1378663778305054, -1.0985462665557861, -1.1577115058898926, -0.9227970242500305, -1.4068926572799683, -0.954264760017395, -1.126699447631836, -1.0559765100479126, -0.7649415731430054, -0.7307921648025513, -1.099900722503662, -1.0472062826156616, -1.2381738424301147, -0.8953002095222473, -1.0639604330062866, -0.8603573441505432, -0.9249136447906494, -0.7001805901527405, -1.0264508724212646, -0.9626219272613525, -1.0698739290237427, -1.3018505573272705, -1.1259369850158691, -0.8614881634712219, -1.1159101724624634, -0.9466642737388611, -1.0715442895889282, -1.5384917259216309, -0.8400803804397583, -1.1204993724822998, -1.1971713304519653, -1.2969672679901123, -1.2306623458862305, -1.0182663202285767, -0.6593208312988281, -0.9419991970062256, -0.8047569990158081, -1.2614080905914307, -0.8428635597229004, -1.0063302516937256, 0.12549026310443878, -0.385408878326416, -0.9020376205444336, 0.07878734916448593, -1.0052932500839233, -0.6058976650238037, -0.07990504056215286, -1.0416290760040283, -0.6214523315429688, -0.24972626566886902, -1.1149283647537231, -1.134456992149353, -0.6335555911064148, -0.783211886882782, -1.0058202743530273, -1.1677356958389282, -1.1364620923995972, -0.8807982206344604, -1.053354263305664, -0.3637993335723877, -0.8958097696304321, -0.8655752539634705, -0.9522702693939209, -1.0308741331100464, -1.1640113592147827, -0.8920373320579529, -1.1547067165374756, -0.6569610238075256, -1.1642565727233887, -0.8698039054870605, -1.047688364982605, 0.05973014980554581, 0.1921403557062149, -1.8935059309005737, 0.4330154359340668, 0.4244575500488281, -1.2216148376464844, -0.22159889340400696, 0.2843981683254242, -1.391283392906189, -0.9127078652381897, -0.8139665126800537, -0.2148183435201645, -1.7082818746566772, -1.0096590518951416, -0.9036028981208801, -1.0059802532196045, -1.731494426727295, -0.9081497192382812, -1.0546737909317017, -0.32878249883651733, -1.2899702787399292, 1.0729553699493408, -1.7142150402069092, 0.09071346372365952, -1.6244417428970337, -0.9362581968307495, -1.0105074644088745, -1.0427371263504028, -1.149179458618164, -0.9937222003936768, -0.9446463584899902, -0.9589398503303528, -1.16680908203125, -1.0595369338989258, -1.2461168766021729, -0.9714944958686829, -1.1874505281448364, -1.0928882360458374, -0.9299204349517822, -1.0665620565414429, -0.9847410321235657, -1.1687597036361694, -1.1511857509613037, -0.915376603603363, -1.211992859840393, -0.9661610126495361, -1.2345261573791504, -1.075332522392273, -0.995421290397644, -1.1931991577148438, -1.0349323749542236, -0.8701767921447754, -1.4416530132293701, -0.8274034857749939, -0.9122899770736694, -1.1438933610916138, -1.0364305973052979, -0.7767326831817627, -0.7344287037849426, -0.7595298886299133, -0.8497433066368103, -0.7985596656799316, -0.8996749520301819, -1.1359299421310425, -1.1255989074707031, -0.8857187032699585, -0.6896223425865173, -0.8914890885353088, -0.810612142086029, -0.8307417035102844, -0.7642828226089478, -0.8122817277908325, -0.7625257968902588, -1.1320708990097046, -1.0204859972000122, -0.8331289291381836, -0.7894883155822754, -0.8040431141853333, -0.7186806797981262, -0.9345510005950928, -1.2719978094100952, -0.9485679268836975, -1.0414276123046875, -0.8486648797988892, -0.9935882091522217, -1.1018104553222656, -0.8070850968360901, -0.5600359439849854, -0.7146832346916199, -1.0425325632095337, -0.968632161617279, -0.9102321863174438, -1.0644882917404175, -0.9788809418678284, -0.8508116006851196, -1.0563105344772339, -0.726737916469574, -0.9781864881515503, -0.9359248280525208, -0.9978529214859009, -0.9265695810317993, -0.8611047863960266, -0.9384119510650635, -0.9709435105323792, -0.9397909641265869, -0.8373256325721741, -0.9356013536453247, -0.8491486310958862, -1.2268744707107544, -0.8613167405128479, -1.0992579460144043, -0.8583827018737793, -1.0737849473953247, -1.0518603324890137, -0.9293953776359558, -1.105471134185791, -0.9363997578620911, -1.472584843635559, -0.9883233904838562, -1.2026774883270264, -0.5184333324432373, -0.9903495907783508, -0.895714521408081, -1.2559008598327637, -0.8660605549812317, 0.438102662563324, -0.35972288250923157, -1.2111719846725464, -1.2954089641571045, -1.2483093738555908, -0.5384240746498108, 0.43472975492477417, -1.0228906869888306, -0.9248347878456116, -1.232993721961975, -1.139443039894104, -0.7615847587585449, -0.7355347275733948, 0.06903813034296036, -0.9441248774528503, -1.1058194637298584, -0.6209664344787598, -1.417649507522583, 0.1864815503358841, -0.8927381038665771, -0.5679336786270142, -0.39556005597114563, -1.0748862028121948, -0.6251745820045471, 0.8960086107254028, 1.018929362297058, 0.45083531737327576, 0.9890169501304626, 1.0287920236587524, 1.1085549592971802, 0.9352461695671082, 1.0402584075927734, 0.28282564878463745, 0.9492442607879639, 0.9405562877655029, 1.1298425197601318, 0.8913700580596924, 0.3417567312717438, 1.0703637599945068, 0.6626145839691162, 1.1454142332077026, 0.9633210301399231, 0.9996127486228943, 0.9785350561141968, 1.027214765548706, 1.040511131286621, 0.9764694571495056, 0.9186779260635376, 0.4837331473827362, 0.9979785084724426, 0.9519749283790588, 0.9068150520324707, 0.015612485818564892, 0.86756831407547, 0.9659069776535034, 1.0403540134429932, 1.0342471599578857, 0.8831391930580139, 0.8987444043159485, 0.780757486820221, 0.7720805406570435, 0.9908484816551208, 1.011149287223816, 0.9207108020782471, 1.1139955520629883, 1.308497667312622, 0.7255440354347229, 0.603729784488678, 1.0258214473724365, 1.0969772338867188, 1.1551659107208252, 0.8963976502418518, 0.6817388534545898, 0.7487302422523499, 1.0913586616516113, 1.1308660507202148, 1.0066145658493042, 0.8312179446220398, 0.6786937117576599, 0.9855834245681763, 1.1704494953155518, 0.9347015023231506, 0.9547466039657593, 1.1427351236343384, 0.8183580636978149, 0.5633689761161804, 1.0138550996780396, 0.6051727533340454, 0.6868795156478882, 0.8826764225959778, 1.1130462884902954, 0.8081054091453552, 1.1282951831817627, 1.0230989456176758, 0.7756969332695007, 1.0760276317596436, 0.8035879731178284, 1.14864182472229, 0.8756659626960754, 0.9300498366355896, 0.907159149646759, 0.6920814514160156, 0.5572051405906677, 0.7476173043251038, 0.6363556385040283, 1.1183013916015625, 0.301572322845459, 0.9145878553390503, 0.8998144865036011, 0.7906150817871094, 0.9704186320304871, 1.0902332067489624, 1.0750559568405151, 1.1347014904022217, 0.9597218036651611, 0.832737386226654, 0.17221815884113312, 1.1066352128982544, 1.0445300340652466, 0.8484495878219604, 0.9790279269218445, 0.777069628238678, 0.989528238773346, 0.7597408890724182, 0.9194368720054626, 0.8723122477531433, 1.0494517087936401, 0.19202283024787903, 0.6499433517456055, 0.9678889513015747, 0.9729594588279724, 1.1141338348388672, 0.6795217990875244, 0.7978881001472473, 0.9814611673355103, 1.0394940376281738, 0.9833179712295532, 1.0827447175979614, 1.0258498191833496, 1.0843738317489624, 1.0055817365646362, 0.7796372771263123, 0.8055831789970398, 0.7429354786872864, 1.072928547859192, 0.7868221998214722, 1.0239206552505493, 0.557699978351593, 0.9934437870979309, 0.9858281016349792, 0.8868290781974792, 1.1072850227355957, 0.4235144853591919, 0.9561576843261719, 0.7290579676628113, 0.9299632906913757, 1.054215669631958, 0.5265182852745056, 1.0708236694335938, 0.5824127793312073, 1.1854989528656006, 1.4243104457855225, 0.7393422722816467, 1.0079967975616455, 1.147173285484314, 0.6483619809150696, 0.29755699634552, 0.3099524676799774, 1.0832170248031616, 1.0643855333328247, 1.045920729637146, 0.6085965037345886, 0.19928717613220215, 1.0019348859786987, 1.0680978298187256, -0.2721227705478668, 0.7673721313476562, 1.0354918241500854, 1.1171984672546387, 1.0405470132827759, 0.6259029507637024, 0.8243023157119751, 1.1922821998596191, 0.703948438167572, 0.8556694388389587, 1.1192982196807861, 1.1414589881896973, 1.1200652122497559, 0.7522944211959839, 0.998809278011322, 1.3183329105377197, 0.9126793146133423, 1.0478935241699219, 0.9849600195884705, 0.8539605736732483, 0.42393869161605835, 0.9927441477775574, 1.0117086172103882, 0.9634084105491638, 1.1633508205413818, 0.9403433799743652, 0.9677073359489441, 1.467872142791748, 1.054663896560669, 1.2145307064056396, 0.8628416061401367, 1.002501130104065, 1.4679168462753296, 1.0318886041641235, 0.9659221768379211, 1.253775954246521, 0.68548983335495, 1.0805213451385498, 0.9525874257087708, 1.0374338626861572, 0.9164300560951233, 0.8873757123947144, 1.0357147455215454, 0.806117832660675, 0.7358320355415344, 1.1466470956802368, 0.8186301589012146, 1.1392662525177002, 0.8036512136459351, 1.0913211107254028, 0.6692690849304199, 0.4885424077510834, 0.57785564661026, 1.3816442489624023, 0.7824373841285706, 1.1090859174728394, 1.0762075185775757, 0.2523011863231659, 0.37311214208602905, 0.7667292356491089, 1.0882289409637451, 1.0376015901565552, -0.11499832570552826, 1.1349525451660156, 1.0663701295852661, 1.092000126838684, 1.4797860383987427, 0.7965323328971863, 0.9384291768074036, 1.093131422996521, 1.053890585899353, 1.2142119407653809, 1.3233650922775269, 1.2037433385849, 0.8897817134857178, 0.34661394357681274, 1.151291012763977, 0.9744157195091248, -0.5411183834075928, 1.0554064512252808, 1.096578598022461, 0.8839849829673767, 0.9227473735809326, 0.7960719466209412, 0.9322731494903564, 1.124881625175476, 0.8317020535469055, 0.9376574158668518, 1.0530626773834229, 0.8920601606369019, 0.7893189787864685, 0.8536337614059448, 0.966951310634613, 1.0983412265777588, 0.9531131386756897, 1.000673770904541, 1.0161923170089722, 1.0710399150848389, 0.8278719186782837, 0.9173730611801147, 0.7978371381759644, 0.44031214714050293, 0.8771358728408813, 0.9847064018249512, 1.019607424736023, 0.2755866050720215, 1.041329264640808, 1.0308070182800293, 1.1315147876739502, 1.0616497993469238, 0.6272191405296326, 0.9465538263320923, 0.8705675601959229, 1.032175064086914, 0.40857580304145813, 1.11147940158844, 0.9037887454032898, 1.027938723564148, 1.05144464969635, 0.9599332809448242, 0.9123401641845703, 0.9535057544708252, 1.0471372604370117, 0.8863462805747986, 0.9538925886154175, 0.645106852054596, 0.7711918354034424, 0.8442418575286865, 1.0073927640914917, 0.993873655796051, 0.9500042796134949, 0.9715617299079895, 1.1523818969726562, 0.9480863809585571, 0.9528457522392273, 1.0553510189056396, 1.1065199375152588, 0.9454060792922974, 0.8513579964637756, 0.8958289623260498, 0.9247385859489441, 0.9568670392036438, 0.9720097780227661, 1.0892176628112793, 0.7526346445083618, 0.7895625829696655, 1.0412073135375977, 0.884699285030365, 0.837286114692688, 0.8787580132484436, 0.9479901790618896, 1.0710774660110474, 0.9736120104789734, 0.7151983380317688, 0.7696100473403931, 0.8346057534217834, 0.7942123413085938, 0.8430551290512085, 0.7074712514877319, 0.5884454846382141, 0.7048639059066772, 0.972749650478363, 1.1444571018218994, 0.9645358920097351, 0.931046187877655, 1.1609855890274048, 0.8320095539093018, 1.0297340154647827, 0.8045837879180908, 0.8284799456596375, 0.14440017938613892, 0.5617868900299072, 1.1052830219268799, 0.8922328352928162, 0.9092445969581604, 1.2214776277542114, 0.9688560366630554, 1.2257972955703735, 1.123760461807251, 0.9532271027565002, 0.8843397498130798, 1.002265214920044, 1.0663163661956787, 0.37213289737701416, 0.827704906463623, 0.849574625492096, 0.8710743188858032, 0.6170939207077026, 1.0556442737579346, 1.0267771482467651, 0.7659692168235779, 0.9207111597061157, 1.0112344026565552, 0.129779651761055, 1.0423227548599243, 0.8036506772041321, 0.6540518999099731, 0.9202361702919006, 0.870659351348877, 0.8780028223991394, 1.17618989944458, 0.7730962634086609, 0.7808530330657959, 0.8706986308097839, 0.6541850566864014, 0.2368425875902176, 0.9902214407920837, 0.7576307654380798]}],\n",
              "                        {\"coloraxis\": {\"colorbar\": {\"title\": {\"text\": \"color\"}}, \"colorscale\": [[0.0, \"#0d0887\"], [0.1111111111111111, \"#46039f\"], [0.2222222222222222, \"#7201a8\"], [0.3333333333333333, \"#9c179e\"], [0.4444444444444444, \"#bd3786\"], [0.5555555555555556, \"#d8576b\"], [0.6666666666666666, \"#ed7953\"], [0.7777777777777778, \"#fb9f3a\"], [0.8888888888888888, \"#fdca26\"], [1.0, \"#f0f921\"]]}, \"legend\": {\"tracegroupgap\": 0}, \"margin\": {\"t\": 60}, \"scene\": {\"domain\": {\"x\": [0.0, 1.0], \"y\": [0.0, 1.0]}, \"xaxis\": {\"title\": {\"text\": \"x\"}}, \"yaxis\": {\"title\": {\"text\": \"y\"}}, \"zaxis\": {\"title\": {\"text\": \"z\"}}}, \"template\": {\"data\": {\"bar\": [{\"error_x\": {\"color\": \"#2a3f5f\"}, \"error_y\": {\"color\": \"#2a3f5f\"}, \"marker\": {\"line\": {\"color\": \"#E5ECF6\", \"width\": 0.5}}, \"type\": \"bar\"}], \"barpolar\": [{\"marker\": {\"line\": {\"color\": \"#E5ECF6\", \"width\": 0.5}}, \"type\": \"barpolar\"}], \"carpet\": [{\"aaxis\": {\"endlinecolor\": \"#2a3f5f\", \"gridcolor\": \"white\", \"linecolor\": \"white\", \"minorgridcolor\": \"white\", \"startlinecolor\": \"#2a3f5f\"}, \"baxis\": {\"endlinecolor\": \"#2a3f5f\", \"gridcolor\": \"white\", \"linecolor\": \"white\", \"minorgridcolor\": \"white\", \"startlinecolor\": \"#2a3f5f\"}, \"type\": \"carpet\"}], \"choropleth\": [{\"colorbar\": {\"outlinewidth\": 0, \"ticks\": \"\"}, \"type\": \"choropleth\"}], \"contour\": [{\"colorbar\": {\"outlinewidth\": 0, \"ticks\": \"\"}, \"colorscale\": [[0.0, \"#0d0887\"], [0.1111111111111111, \"#46039f\"], [0.2222222222222222, \"#7201a8\"], [0.3333333333333333, \"#9c179e\"], [0.4444444444444444, \"#bd3786\"], [0.5555555555555556, \"#d8576b\"], [0.6666666666666666, \"#ed7953\"], [0.7777777777777778, \"#fb9f3a\"], [0.8888888888888888, \"#fdca26\"], [1.0, \"#f0f921\"]], \"type\": \"contour\"}], \"contourcarpet\": [{\"colorbar\": {\"outlinewidth\": 0, \"ticks\": \"\"}, \"type\": \"contourcarpet\"}], \"heatmap\": [{\"colorbar\": {\"outlinewidth\": 0, \"ticks\": \"\"}, \"colorscale\": [[0.0, \"#0d0887\"], [0.1111111111111111, \"#46039f\"], [0.2222222222222222, \"#7201a8\"], [0.3333333333333333, \"#9c179e\"], [0.4444444444444444, \"#bd3786\"], [0.5555555555555556, \"#d8576b\"], [0.6666666666666666, \"#ed7953\"], [0.7777777777777778, \"#fb9f3a\"], [0.8888888888888888, \"#fdca26\"], [1.0, \"#f0f921\"]], \"type\": \"heatmap\"}], \"heatmapgl\": [{\"colorbar\": {\"outlinewidth\": 0, \"ticks\": \"\"}, \"colorscale\": [[0.0, \"#0d0887\"], [0.1111111111111111, \"#46039f\"], [0.2222222222222222, \"#7201a8\"], [0.3333333333333333, \"#9c179e\"], [0.4444444444444444, \"#bd3786\"], [0.5555555555555556, \"#d8576b\"], [0.6666666666666666, \"#ed7953\"], [0.7777777777777778, \"#fb9f3a\"], [0.8888888888888888, \"#fdca26\"], [1.0, \"#f0f921\"]], \"type\": \"heatmapgl\"}], \"histogram\": [{\"marker\": {\"colorbar\": {\"outlinewidth\": 0, \"ticks\": \"\"}}, \"type\": \"histogram\"}], \"histogram2d\": [{\"colorbar\": {\"outlinewidth\": 0, \"ticks\": \"\"}, \"colorscale\": [[0.0, \"#0d0887\"], [0.1111111111111111, \"#46039f\"], [0.2222222222222222, \"#7201a8\"], [0.3333333333333333, \"#9c179e\"], [0.4444444444444444, \"#bd3786\"], [0.5555555555555556, \"#d8576b\"], [0.6666666666666666, \"#ed7953\"], [0.7777777777777778, \"#fb9f3a\"], [0.8888888888888888, \"#fdca26\"], [1.0, \"#f0f921\"]], \"type\": \"histogram2d\"}], \"histogram2dcontour\": [{\"colorbar\": {\"outlinewidth\": 0, \"ticks\": \"\"}, \"colorscale\": [[0.0, \"#0d0887\"], [0.1111111111111111, \"#46039f\"], [0.2222222222222222, \"#7201a8\"], [0.3333333333333333, \"#9c179e\"], [0.4444444444444444, \"#bd3786\"], [0.5555555555555556, \"#d8576b\"], [0.6666666666666666, \"#ed7953\"], [0.7777777777777778, \"#fb9f3a\"], [0.8888888888888888, \"#fdca26\"], [1.0, \"#f0f921\"]], \"type\": \"histogram2dcontour\"}], \"mesh3d\": [{\"colorbar\": {\"outlinewidth\": 0, \"ticks\": \"\"}, \"type\": \"mesh3d\"}], \"parcoords\": [{\"line\": {\"colorbar\": {\"outlinewidth\": 0, \"ticks\": \"\"}}, \"type\": \"parcoords\"}], \"pie\": [{\"automargin\": true, \"type\": \"pie\"}], \"scatter\": [{\"marker\": {\"colorbar\": {\"outlinewidth\": 0, \"ticks\": \"\"}}, \"type\": \"scatter\"}], \"scatter3d\": [{\"line\": {\"colorbar\": {\"outlinewidth\": 0, \"ticks\": \"\"}}, \"marker\": {\"colorbar\": {\"outlinewidth\": 0, \"ticks\": \"\"}}, \"type\": \"scatter3d\"}], \"scattercarpet\": [{\"marker\": {\"colorbar\": {\"outlinewidth\": 0, \"ticks\": \"\"}}, \"type\": \"scattercarpet\"}], \"scattergeo\": [{\"marker\": {\"colorbar\": {\"outlinewidth\": 0, \"ticks\": \"\"}}, \"type\": \"scattergeo\"}], \"scattergl\": [{\"marker\": {\"colorbar\": {\"outlinewidth\": 0, \"ticks\": \"\"}}, \"type\": \"scattergl\"}], \"scattermapbox\": [{\"marker\": {\"colorbar\": {\"outlinewidth\": 0, \"ticks\": \"\"}}, \"type\": \"scattermapbox\"}], \"scatterpolar\": [{\"marker\": {\"colorbar\": {\"outlinewidth\": 0, \"ticks\": \"\"}}, \"type\": \"scatterpolar\"}], \"scatterpolargl\": [{\"marker\": {\"colorbar\": {\"outlinewidth\": 0, \"ticks\": \"\"}}, \"type\": \"scatterpolargl\"}], \"scatterternary\": [{\"marker\": {\"colorbar\": {\"outlinewidth\": 0, \"ticks\": \"\"}}, \"type\": \"scatterternary\"}], \"surface\": [{\"colorbar\": {\"outlinewidth\": 0, \"ticks\": \"\"}, \"colorscale\": [[0.0, \"#0d0887\"], [0.1111111111111111, \"#46039f\"], [0.2222222222222222, \"#7201a8\"], [0.3333333333333333, \"#9c179e\"], [0.4444444444444444, \"#bd3786\"], [0.5555555555555556, \"#d8576b\"], [0.6666666666666666, \"#ed7953\"], [0.7777777777777778, \"#fb9f3a\"], [0.8888888888888888, \"#fdca26\"], [1.0, \"#f0f921\"]], \"type\": \"surface\"}], \"table\": [{\"cells\": {\"fill\": {\"color\": \"#EBF0F8\"}, \"line\": {\"color\": \"white\"}}, \"header\": {\"fill\": {\"color\": \"#C8D4E3\"}, \"line\": {\"color\": \"white\"}}, \"type\": \"table\"}]}, \"layout\": {\"annotationdefaults\": {\"arrowcolor\": \"#2a3f5f\", \"arrowhead\": 0, \"arrowwidth\": 1}, \"coloraxis\": {\"colorbar\": {\"outlinewidth\": 0, \"ticks\": \"\"}}, \"colorscale\": {\"diverging\": [[0, \"#8e0152\"], [0.1, \"#c51b7d\"], [0.2, \"#de77ae\"], [0.3, \"#f1b6da\"], [0.4, \"#fde0ef\"], [0.5, \"#f7f7f7\"], [0.6, \"#e6f5d0\"], [0.7, \"#b8e186\"], [0.8, \"#7fbc41\"], [0.9, \"#4d9221\"], [1, \"#276419\"]], \"sequential\": [[0.0, \"#0d0887\"], [0.1111111111111111, \"#46039f\"], [0.2222222222222222, \"#7201a8\"], [0.3333333333333333, \"#9c179e\"], [0.4444444444444444, \"#bd3786\"], [0.5555555555555556, \"#d8576b\"], [0.6666666666666666, \"#ed7953\"], [0.7777777777777778, \"#fb9f3a\"], [0.8888888888888888, \"#fdca26\"], [1.0, \"#f0f921\"]], \"sequentialminus\": [[0.0, \"#0d0887\"], [0.1111111111111111, \"#46039f\"], [0.2222222222222222, \"#7201a8\"], [0.3333333333333333, \"#9c179e\"], [0.4444444444444444, \"#bd3786\"], [0.5555555555555556, \"#d8576b\"], [0.6666666666666666, \"#ed7953\"], [0.7777777777777778, \"#fb9f3a\"], [0.8888888888888888, \"#fdca26\"], [1.0, \"#f0f921\"]]}, \"colorway\": [\"#636efa\", \"#EF553B\", \"#00cc96\", \"#ab63fa\", \"#FFA15A\", \"#19d3f3\", \"#FF6692\", \"#B6E880\", \"#FF97FF\", \"#FECB52\"], \"font\": {\"color\": \"#2a3f5f\"}, \"geo\": {\"bgcolor\": \"white\", \"lakecolor\": \"white\", \"landcolor\": \"#E5ECF6\", \"showlakes\": true, \"showland\": true, \"subunitcolor\": \"white\"}, \"hoverlabel\": {\"align\": \"left\"}, \"hovermode\": \"closest\", \"mapbox\": {\"style\": \"light\"}, \"paper_bgcolor\": \"white\", \"plot_bgcolor\": \"#E5ECF6\", \"polar\": {\"angularaxis\": {\"gridcolor\": \"white\", \"linecolor\": \"white\", \"ticks\": \"\"}, \"bgcolor\": \"#E5ECF6\", \"radialaxis\": {\"gridcolor\": \"white\", \"linecolor\": \"white\", \"ticks\": \"\"}}, \"scene\": {\"xaxis\": {\"backgroundcolor\": \"#E5ECF6\", \"gridcolor\": \"white\", \"gridwidth\": 2, \"linecolor\": \"white\", \"showbackground\": true, \"ticks\": \"\", \"zerolinecolor\": \"white\"}, \"yaxis\": {\"backgroundcolor\": \"#E5ECF6\", \"gridcolor\": \"white\", \"gridwidth\": 2, \"linecolor\": \"white\", \"showbackground\": true, \"ticks\": \"\", \"zerolinecolor\": \"white\"}, \"zaxis\": {\"backgroundcolor\": \"#E5ECF6\", \"gridcolor\": \"white\", \"gridwidth\": 2, \"linecolor\": \"white\", \"showbackground\": true, \"ticks\": \"\", \"zerolinecolor\": \"white\"}}, \"shapedefaults\": {\"line\": {\"color\": \"#2a3f5f\"}}, \"ternary\": {\"aaxis\": {\"gridcolor\": \"white\", \"linecolor\": \"white\", \"ticks\": \"\"}, \"baxis\": {\"gridcolor\": \"white\", \"linecolor\": \"white\", \"ticks\": \"\"}, \"bgcolor\": \"#E5ECF6\", \"caxis\": {\"gridcolor\": \"white\", \"linecolor\": \"white\", \"ticks\": \"\"}}, \"title\": {\"x\": 0.05}, \"xaxis\": {\"automargin\": true, \"gridcolor\": \"white\", \"linecolor\": \"white\", \"ticks\": \"\", \"title\": {\"standoff\": 15}, \"zerolinecolor\": \"white\", \"zerolinewidth\": 2}, \"yaxis\": {\"automargin\": true, \"gridcolor\": \"white\", \"linecolor\": \"white\", \"ticks\": \"\", \"title\": {\"standoff\": 15}, \"zerolinecolor\": \"white\", \"zerolinewidth\": 2}}}},\n",
              "                        {\"responsive\": true}\n",
              "                    ).then(function(){\n",
              "                            \n",
              "var gd = document.getElementById('0e4abca2-c1cf-429d-b701-f9dcdf3cdd4f');\n",
              "var x = new MutationObserver(function (mutations, observer) {{\n",
              "        var display = window.getComputedStyle(gd).display;\n",
              "        if (!display || display === 'none') {{\n",
              "            console.log([gd, 'removed!']);\n",
              "            Plotly.purge(gd);\n",
              "            observer.disconnect();\n",
              "        }}\n",
              "}});\n",
              "\n",
              "// Listen for the removal of the full notebook cells\n",
              "var notebookContainer = gd.closest('#notebook-container');\n",
              "if (notebookContainer) {{\n",
              "    x.observe(notebookContainer, {childList: true});\n",
              "}}\n",
              "\n",
              "// Listen for the clearing of the current output cell\n",
              "var outputEl = gd.closest('.output');\n",
              "if (outputEl) {{\n",
              "    x.observe(outputEl, {childList: true});\n",
              "}}\n",
              "\n",
              "                        })\n",
              "                };\n",
              "                \n",
              "            </script>\n",
              "        </div>\n",
              "</body>\n",
              "</html>"
            ]
          },
          "metadata": {}
        }
      ]
    },
    {
      "cell_type": "code",
      "metadata": {
        "id": "J7cZmhC2bN-d",
        "colab": {
          "base_uri": "https://localhost:8080/"
        },
        "outputId": "68f737f0-b8d7-4f7b-a7c1-9dd00008c638"
      },
      "source": [
        "print(\"Accuracy: \", np.sum(preds==label)/label.shape[0])"
      ],
      "execution_count": null,
      "outputs": [
        {
          "output_type": "stream",
          "name": "stdout",
          "text": [
            "Accuracy:  0.972183588317107\n"
          ]
        }
      ]
    },
    {
      "cell_type": "code",
      "metadata": {
        "id": "AJ3n530YCJXD",
        "colab": {
          "base_uri": "https://localhost:8080/"
        },
        "outputId": "2b8b69da-d52c-4589-9bad-58c53e37937c"
      },
      "source": [
        "from sklearn.metrics import classification_report, confusion_matrix\n",
        "\n",
        "print(classification_report(label, preds, digits=5))"
      ],
      "execution_count": null,
      "outputs": [
        {
          "output_type": "stream",
          "name": "stdout",
          "text": [
            "              precision    recall  f1-score   support\n",
            "\n",
            "           0    0.98851   0.95556   0.97175       360\n",
            "           1    0.95687   0.98886   0.97260       359\n",
            "\n",
            "    accuracy                        0.97218       719\n",
            "   macro avg    0.97269   0.97221   0.97218       719\n",
            "weighted avg    0.97271   0.97218   0.97218       719\n",
            "\n"
          ]
        }
      ]
    },
    {
      "cell_type": "code",
      "metadata": {
        "colab": {
          "base_uri": "https://localhost:8080/"
        },
        "id": "ypKvywG58gDK",
        "outputId": "a17391e2-ce3f-4624-ca8f-ab98a6b28cc3"
      },
      "source": [
        "np.unique(label, return_counts=True)"
      ],
      "execution_count": null,
      "outputs": [
        {
          "output_type": "execute_result",
          "data": {
            "text/plain": [
              "(array([0, 1]), array([360, 359]))"
            ]
          },
          "metadata": {},
          "execution_count": 56
        }
      ]
    },
    {
      "cell_type": "code",
      "metadata": {
        "colab": {
          "base_uri": "https://localhost:8080/"
        },
        "id": "ryHK0tSL870J",
        "outputId": "3202ff1c-24cc-49f2-805e-ec9222f1d83c"
      },
      "source": [
        "np.unique(preds, return_counts=True)"
      ],
      "execution_count": null,
      "outputs": [
        {
          "output_type": "execute_result",
          "data": {
            "text/plain": [
              "(array([0, 1]), array([348, 371]))"
            ]
          },
          "metadata": {},
          "execution_count": 57
        }
      ]
    },
    {
      "cell_type": "code",
      "metadata": {
        "id": "Md3Q1yZWi4wH",
        "colab": {
          "base_uri": "https://localhost:8080/",
          "height": 280
        },
        "outputId": "a00aacf0-dc45-41c5-f27c-edaa8eb5d92b"
      },
      "source": [
        "import seaborn as sns\n",
        "\n",
        "sns.heatmap(confusion_matrix(label, preds), annot=True, fmt='g')\n",
        "plt.ylabel(\"Ground Truth\")\n",
        "plt.xlabel(\"Predicted\")\n",
        "plt.show()"
      ],
      "execution_count": null,
      "outputs": [
        {
          "output_type": "display_data",
          "data": {
            "image/png": "[encoded data removed]",
            "text/plain": [
              "<Figure size 432x288 with 2 Axes>"
            ]
          },
          "metadata": {
            "needs_background": "light"
          }
        }
      ]
    },
    {
      "cell_type": "markdown",
      "metadata": {
        "id": "RAJr5Fklg4z2"
      },
      "source": [
        "### Voting Based Evaluation"
      ]
    },
    {
      "cell_type": "code",
      "metadata": {
        "colab": {
          "base_uri": "https://localhost:8080/"
        },
        "id": "SJI4tX-Wg8di",
        "outputId": "3f3e16d8-828f-4da1-9af5-80eb95af4d63"
      },
      "source": [
        "SAMPLE_RATE = 16000\n",
        "mel_spectrogram = torchaudio.transforms.MelSpectrogram(\n",
        "        sample_rate=SAMPLE_RATE,\n",
        "        n_fft=1024,\n",
        "        hop_length=501,\n",
        "        n_mels=64)\n",
        "\n",
        "ANNOTATIONS_FILE = \"/content/drive/MyDrive/slider_data/data_2secs/eval_sets/\"+TEST_SET+\".csv\"\n",
        "AUDIO_DIR = \"/content/drive/MyDrive/slider_data/\"+TEST_FOLDER\n",
        "data = SoundDatasetBuilder(ANNOTATIONS_FILE, AUDIO_DIR, mel_spectrogram, SAMPLE_RATE)\n",
        "\n",
        "data_loader = torch.utils.data.DataLoader(data,\n",
        "                                          batch_size=5, \n",
        "                                          shuffle=False, num_workers=2,\n",
        "                                          pin_memory=True)\n",
        "\n",
        "print(f\"There are {len(data)} samples in the dataset.\")"
      ],
      "execution_count": null,
      "outputs": [
        {
          "output_type": "stream",
          "name": "stdout",
          "text": [
            "There are 4050 samples in the dataset.\n"
          ]
        }
      ]
    },
    {
      "cell_type": "code",
      "metadata": {
        "id": "VuUEUX8thKFe"
      },
      "source": [
        "import time\n",
        "\n",
        "model.eval()\n",
        "\n",
        "def infer_with_voting(model, data_loader, use_cuda=True):\n",
        "  z_list, label_list, pred_list, times = [], [], [], []\n",
        "  for batch_x, batch_y in tqdm(data_loader):\n",
        "\n",
        "    if not (np.min(batch_y.numpy())==np.max(batch_y.numpy())):\n",
        "      raise ValueError(\"Batch has mixed files!\")\n",
        "\n",
        "    batch_x = Variable(batch_x, requires_grad=False)\n",
        "    if use_cuda:\n",
        "      batch_x = batch_x.cuda()\n",
        "\n",
        "    start = time.time()\n",
        "    preds = model.predict(batch_x)\n",
        "\n",
        "    # Get vote\n",
        "    pred = np.bincount(preds.numpy()).argmax()\n",
        "    label = batch_y.numpy()[0]\n",
        "    \n",
        "    label_list.append(label)\n",
        "    pred_list.append(pred)\n",
        "    end = time.time()\n",
        "    times.append(end-start)\n",
        "\n",
        "  mean_time = np.mean(np.array(times))\n",
        "  return label_list, pred_list, mean_time"
      ],
      "execution_count": null,
      "outputs": []
    },
    {
      "cell_type": "code",
      "metadata": {
        "colab": {
          "base_uri": "https://localhost:8080/"
        },
        "id": "IG-JwmcGiIgT",
        "outputId": "10610275-27f2-454a-f517-d5468e85520a"
      },
      "source": [
        "labels, preds, mt = infer_with_voting(model, data_loader, use_cuda=False)"
      ],
      "execution_count": null,
      "outputs": [
        {
          "output_type": "stream",
          "name": "stderr",
          "text": [
            "100%|██████████| 810/810 [06:42<00:00,  2.01it/s]\n"
          ]
        }
      ]
    },
    {
      "cell_type": "code",
      "metadata": {
        "colab": {
          "base_uri": "https://localhost:8080/"
        },
        "id": "LwdTUIoc9SDu",
        "outputId": "6b713e75-51ab-4de2-b116-8726494a72bc"
      },
      "source": [
        "print(mt)"
      ],
      "execution_count": null,
      "outputs": [
        {
          "output_type": "stream",
          "name": "stdout",
          "text": [
            "0.0037969880633884007\n"
          ]
        }
      ]
    },
    {
      "cell_type": "code",
      "metadata": {
        "colab": {
          "base_uri": "https://localhost:8080/"
        },
        "id": "027uuX9IpJq7",
        "outputId": "467c87fa-787d-4d9a-e49c-05dfd60f4776"
      },
      "source": [
        "np.unique(np.array(labels), return_counts=True)"
      ],
      "execution_count": null,
      "outputs": [
        {
          "output_type": "execute_result",
          "data": {
            "text/plain": [
              "(array([0, 1]), array([405, 405]))"
            ]
          },
          "metadata": {},
          "execution_count": 44
        }
      ]
    },
    {
      "cell_type": "code",
      "metadata": {
        "colab": {
          "base_uri": "https://localhost:8080/"
        },
        "id": "8h0shBcdqAAe",
        "outputId": "efa60afe-100e-4f00-8506-4c7d8a9dcfc8"
      },
      "source": [
        "np.unique(np.array(preds), return_counts=True)"
      ],
      "execution_count": null,
      "outputs": [
        {
          "output_type": "execute_result",
          "data": {
            "text/plain": [
              "(array([0, 1]), array([409, 401]))"
            ]
          },
          "metadata": {},
          "execution_count": 45
        }
      ]
    },
    {
      "cell_type": "code",
      "metadata": {
        "colab": {
          "base_uri": "https://localhost:8080/"
        },
        "id": "WTuhpjVrqJFW",
        "outputId": "dcf3b6a5-6a32-451f-d354-4b6f341d411a"
      },
      "source": [
        "from sklearn.metrics import classification_report, confusion_matrix\n",
        "\n",
        "print(classification_report(labels, preds, digits=5))"
      ],
      "execution_count": null,
      "outputs": [
        {
          "output_type": "stream",
          "name": "stdout",
          "text": [
            "              precision    recall  f1-score   support\n",
            "\n",
            "           0    0.98533   0.99506   0.99017       405\n",
            "           1    0.99501   0.98519   0.99007       405\n",
            "\n",
            "    accuracy                        0.99012       810\n",
            "   macro avg    0.99017   0.99012   0.99012       810\n",
            "weighted avg    0.99017   0.99012   0.99012       810\n",
            "\n"
          ]
        }
      ]
    },
    {
      "cell_type": "code",
      "metadata": {
        "colab": {
          "base_uri": "https://localhost:8080/",
          "height": 282
        },
        "id": "YOleDlymqxMP",
        "outputId": "50af31a9-0255-45bd-a965-ca5d7696c518"
      },
      "source": [
        "import seaborn as sns\n",
        "\n",
        "sns.heatmap(confusion_matrix(labels, preds), annot=True, fmt='g')\n",
        "plt.ylabel(\"Ground Truth\")\n",
        "plt.xlabel(\"Predicted\")\n",
        "plt.show()"
      ],
      "execution_count": null,
      "outputs": [
        {
          "output_type": "display_data",
          "data": {
            "image/png": "[encoded data removed]",
            "text/plain": [
              "<Figure size 432x288 with 2 Axes>"
            ]
          },
          "metadata": {
            "needs_background": "light"
          }
        }
      ]
    },
    {
      "cell_type": "code",
      "metadata": {
        "colab": {
          "base_uri": "https://localhost:8080/"
        },
        "id": "6HEAwtM1xdqe",
        "outputId": "5298960a-e16b-4cfa-9a18-b00abc7f61f2"
      },
      "source": [
        "!nvidia-smi"
      ],
      "execution_count": null,
      "outputs": [
        {
          "output_type": "stream",
          "name": "stdout",
          "text": [
            "Thu Sep  2 10:06:00 2021       \n",
            "+-----------------------------------------------------------------------------+\n",
            "| NVIDIA-SMI 470.57.02    Driver Version: 460.32.03    CUDA Version: 11.2     |\n",
            "|-------------------------------+----------------------+----------------------+\n",
            "| GPU  Name        Persistence-M| Bus-Id        Disp.A | Volatile Uncorr. ECC |\n",
            "| Fan  Temp  Perf  Pwr:Usage/Cap|         Memory-Usage | GPU-Util  Compute M. |\n",
            "|                               |                      |               MIG M. |\n",
            "|===============================+======================+======================|\n",
            "|   0  Tesla K80           Off  | 00000000:00:04.0 Off |                    0 |\n",
            "| N/A   61C    P0    64W / 149W |   8477MiB / 11441MiB |      0%      Default |\n",
            "|                               |                      |                  N/A |\n",
            "+-------------------------------+----------------------+----------------------+\n",
            "                                                                               \n",
            "+-----------------------------------------------------------------------------+\n",
            "| Processes:                                                                  |\n",
            "|  GPU   GI   CI        PID   Type   Process name                  GPU Memory |\n",
            "|        ID   ID                                                   Usage      |\n",
            "|=============================================================================|\n",
            "|  No running processes found                                                 |\n",
            "+-----------------------------------------------------------------------------+\n"
          ]
        }
      ]
    },
    {
      "cell_type": "code",
      "metadata": {
        "id": "K_929mUxyGLW"
      },
      "source": [
        ""
      ],
      "execution_count": null,
      "outputs": []
    }
  ]
}
